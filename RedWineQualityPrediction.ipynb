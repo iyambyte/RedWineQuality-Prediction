{
  "nbformat": 4,
  "nbformat_minor": 0,
  "metadata": {
    "colab": {
      "name": "RedWineQualityPrediction.ipynb",
      "provenance": [],
      "collapsed_sections": []
    },
    "kernelspec": {
      "display_name": "Python 3",
      "name": "python3"
    },
    "language_info": {
      "name": "python"
    }
  },
  "cells": [
    {
      "cell_type": "markdown",
      "metadata": {
        "id": "mSDkvnk6wvm5"
      },
      "source": [
        "# Data Mining Project \n",
        "*Algorithm Used : Naive Bayes classification , Linear Regression , Logistic Regression*\n",
        "\n",
        "> \n",
        "\n",
        "\n",
        "**Team Members:**\n",
        "S Kamalesh Kumar - 18MIS1080, \n",
        "Prasanna M - 18MIS1111 "
      ]
    },
    {
      "cell_type": "markdown",
      "metadata": {
        "id": "nMYTuoXVxlIO"
      },
      "source": [
        "# Title: Wine Quality Prediction using Classification & Regression"
      ]
    },
    {
      "cell_type": "markdown",
      "metadata": {
        "id": "bGReqLqTtIzV"
      },
      "source": [
        "# importing the **modules** "
      ]
    },
    {
      "cell_type": "code",
      "metadata": {
        "id": "jQGVe8F1OYtV"
      },
      "source": [
        "import pandas as pd\n",
        "import numpy as np\n",
        "import matplotlib.pyplot as plt\n",
        "\n",
        "import seaborn as sb\n",
        "from sklearn.model_selection import train_test_split\n",
        "from sklearn.linear_model import LinearRegression\n",
        "from sklearn import metrics\n",
        "%matplotlib inline"
      ],
      "execution_count": null,
      "outputs": []
    },
    {
      "cell_type": "markdown",
      "metadata": {
        "id": "2yaYw6lWtQn8"
      },
      "source": [
        "# Loading the dataset"
      ]
    },
    {
      "cell_type": "code",
      "metadata": {
        "colab": {
          "base_uri": "https://localhost:8080/",
          "height": 562
        },
        "id": "ePPvO1_VO7Q5",
        "outputId": "f2b3f7c6-73d7-4dd1-d002-e32cbfc12cd5"
      },
      "source": [
        "data=pd.read_csv(\"/content/winequality_red.csv\")\n",
        "data"
      ],
      "execution_count": null,
      "outputs": [
        {
          "output_type": "execute_result",
          "data": {
            "text/html": [
              "<div>\n",
              "<style scoped>\n",
              "    .dataframe tbody tr th:only-of-type {\n",
              "        vertical-align: middle;\n",
              "    }\n",
              "\n",
              "    .dataframe tbody tr th {\n",
              "        vertical-align: top;\n",
              "    }\n",
              "\n",
              "    .dataframe thead th {\n",
              "        text-align: right;\n",
              "    }\n",
              "</style>\n",
              "<table border=\"1\" class=\"dataframe\">\n",
              "  <thead>\n",
              "    <tr style=\"text-align: right;\">\n",
              "      <th></th>\n",
              "      <th>fixed acidity</th>\n",
              "      <th>volatile acidity</th>\n",
              "      <th>citric acid</th>\n",
              "      <th>residual sugar</th>\n",
              "      <th>chlorides</th>\n",
              "      <th>free sulfur dioxide</th>\n",
              "      <th>total sulfur dioxide</th>\n",
              "      <th>density</th>\n",
              "      <th>pH</th>\n",
              "      <th>sulphates</th>\n",
              "      <th>quality</th>\n",
              "      <th>taste</th>\n",
              "      <th>phRange</th>\n",
              "      <th>alcohol</th>\n",
              "    </tr>\n",
              "  </thead>\n",
              "  <tbody>\n",
              "    <tr>\n",
              "      <th>0</th>\n",
              "      <td>7.4</td>\n",
              "      <td>0.700</td>\n",
              "      <td>0.00</td>\n",
              "      <td>2</td>\n",
              "      <td>0.076</td>\n",
              "      <td>11</td>\n",
              "      <td>34.0</td>\n",
              "      <td>0.99780</td>\n",
              "      <td>3.51</td>\n",
              "      <td>0.56</td>\n",
              "      <td>5</td>\n",
              "      <td>Good</td>\n",
              "      <td>neutral</td>\n",
              "      <td>9</td>\n",
              "    </tr>\n",
              "    <tr>\n",
              "      <th>1</th>\n",
              "      <td>7.8</td>\n",
              "      <td>0.880</td>\n",
              "      <td>0.00</td>\n",
              "      <td>3</td>\n",
              "      <td>0.098</td>\n",
              "      <td>25</td>\n",
              "      <td>67.0</td>\n",
              "      <td>0.99680</td>\n",
              "      <td>3.20</td>\n",
              "      <td>0.68</td>\n",
              "      <td>5</td>\n",
              "      <td>Good</td>\n",
              "      <td>week acid</td>\n",
              "      <td>10</td>\n",
              "    </tr>\n",
              "    <tr>\n",
              "      <th>2</th>\n",
              "      <td>7.8</td>\n",
              "      <td>0.760</td>\n",
              "      <td>0.04</td>\n",
              "      <td>2</td>\n",
              "      <td>0.092</td>\n",
              "      <td>15</td>\n",
              "      <td>54.0</td>\n",
              "      <td>0.99700</td>\n",
              "      <td>3.26</td>\n",
              "      <td>0.65</td>\n",
              "      <td>5</td>\n",
              "      <td>Good</td>\n",
              "      <td>week acid</td>\n",
              "      <td>10</td>\n",
              "    </tr>\n",
              "    <tr>\n",
              "      <th>3</th>\n",
              "      <td>11.2</td>\n",
              "      <td>0.280</td>\n",
              "      <td>0.56</td>\n",
              "      <td>2</td>\n",
              "      <td>0.075</td>\n",
              "      <td>17</td>\n",
              "      <td>60.0</td>\n",
              "      <td>0.99800</td>\n",
              "      <td>3.16</td>\n",
              "      <td>0.58</td>\n",
              "      <td>6</td>\n",
              "      <td>Good</td>\n",
              "      <td>week acid</td>\n",
              "      <td>10</td>\n",
              "    </tr>\n",
              "    <tr>\n",
              "      <th>4</th>\n",
              "      <td>7.4</td>\n",
              "      <td>0.700</td>\n",
              "      <td>0.00</td>\n",
              "      <td>2</td>\n",
              "      <td>0.076</td>\n",
              "      <td>11</td>\n",
              "      <td>34.0</td>\n",
              "      <td>0.99780</td>\n",
              "      <td>3.51</td>\n",
              "      <td>0.56</td>\n",
              "      <td>5</td>\n",
              "      <td>Good</td>\n",
              "      <td>neutral</td>\n",
              "      <td>9</td>\n",
              "    </tr>\n",
              "    <tr>\n",
              "      <th>...</th>\n",
              "      <td>...</td>\n",
              "      <td>...</td>\n",
              "      <td>...</td>\n",
              "      <td>...</td>\n",
              "      <td>...</td>\n",
              "      <td>...</td>\n",
              "      <td>...</td>\n",
              "      <td>...</td>\n",
              "      <td>...</td>\n",
              "      <td>...</td>\n",
              "      <td>...</td>\n",
              "      <td>...</td>\n",
              "      <td>...</td>\n",
              "      <td>...</td>\n",
              "    </tr>\n",
              "    <tr>\n",
              "      <th>1594</th>\n",
              "      <td>6.2</td>\n",
              "      <td>0.600</td>\n",
              "      <td>0.08</td>\n",
              "      <td>2</td>\n",
              "      <td>0.090</td>\n",
              "      <td>32</td>\n",
              "      <td>44.0</td>\n",
              "      <td>0.99490</td>\n",
              "      <td>3.45</td>\n",
              "      <td>0.58</td>\n",
              "      <td>5</td>\n",
              "      <td>Good</td>\n",
              "      <td>week acid</td>\n",
              "      <td>11</td>\n",
              "    </tr>\n",
              "    <tr>\n",
              "      <th>1595</th>\n",
              "      <td>5.9</td>\n",
              "      <td>0.550</td>\n",
              "      <td>0.10</td>\n",
              "      <td>2</td>\n",
              "      <td>0.062</td>\n",
              "      <td>39</td>\n",
              "      <td>51.0</td>\n",
              "      <td>0.99512</td>\n",
              "      <td>3.52</td>\n",
              "      <td>0.76</td>\n",
              "      <td>6</td>\n",
              "      <td>Good</td>\n",
              "      <td>neutral</td>\n",
              "      <td>11</td>\n",
              "    </tr>\n",
              "    <tr>\n",
              "      <th>1596</th>\n",
              "      <td>6.3</td>\n",
              "      <td>0.510</td>\n",
              "      <td>0.13</td>\n",
              "      <td>2</td>\n",
              "      <td>0.076</td>\n",
              "      <td>29</td>\n",
              "      <td>40.0</td>\n",
              "      <td>0.99574</td>\n",
              "      <td>3.42</td>\n",
              "      <td>0.75</td>\n",
              "      <td>6</td>\n",
              "      <td>Good</td>\n",
              "      <td>week acid</td>\n",
              "      <td>11</td>\n",
              "    </tr>\n",
              "    <tr>\n",
              "      <th>1597</th>\n",
              "      <td>5.9</td>\n",
              "      <td>0.645</td>\n",
              "      <td>0.12</td>\n",
              "      <td>2</td>\n",
              "      <td>0.075</td>\n",
              "      <td>32</td>\n",
              "      <td>44.0</td>\n",
              "      <td>0.99547</td>\n",
              "      <td>3.57</td>\n",
              "      <td>0.71</td>\n",
              "      <td>5</td>\n",
              "      <td>Good</td>\n",
              "      <td>neutral</td>\n",
              "      <td>10</td>\n",
              "    </tr>\n",
              "    <tr>\n",
              "      <th>1598</th>\n",
              "      <td>6.0</td>\n",
              "      <td>0.310</td>\n",
              "      <td>0.47</td>\n",
              "      <td>4</td>\n",
              "      <td>0.067</td>\n",
              "      <td>18</td>\n",
              "      <td>42.0</td>\n",
              "      <td>0.99549</td>\n",
              "      <td>3.39</td>\n",
              "      <td>0.66</td>\n",
              "      <td>6</td>\n",
              "      <td>Good</td>\n",
              "      <td>week acid</td>\n",
              "      <td>11</td>\n",
              "    </tr>\n",
              "  </tbody>\n",
              "</table>\n",
              "<p>1599 rows × 14 columns</p>\n",
              "</div>"
            ],
            "text/plain": [
              "      fixed acidity  volatile acidity  citric acid  ...  taste    phRange  alcohol\n",
              "0               7.4             0.700         0.00  ...   Good    neutral        9\n",
              "1               7.8             0.880         0.00  ...   Good  week acid       10\n",
              "2               7.8             0.760         0.04  ...   Good  week acid       10\n",
              "3              11.2             0.280         0.56  ...   Good  week acid       10\n",
              "4               7.4             0.700         0.00  ...   Good    neutral        9\n",
              "...             ...               ...          ...  ...    ...        ...      ...\n",
              "1594            6.2             0.600         0.08  ...   Good  week acid       11\n",
              "1595            5.9             0.550         0.10  ...   Good    neutral       11\n",
              "1596            6.3             0.510         0.13  ...   Good  week acid       11\n",
              "1597            5.9             0.645         0.12  ...   Good    neutral       10\n",
              "1598            6.0             0.310         0.47  ...   Good  week acid       11\n",
              "\n",
              "[1599 rows x 14 columns]"
            ]
          },
          "metadata": {},
          "execution_count": 2
        }
      ]
    },
    {
      "cell_type": "code",
      "metadata": {
        "colab": {
          "base_uri": "https://localhost:8080/"
        },
        "id": "YI61t7o9PMNY",
        "outputId": "1bc58719-d94a-484c-cc80-898c5cdb6281"
      },
      "source": [
        "#number of instance in red wine\n",
        "data.size"
      ],
      "execution_count": null,
      "outputs": [
        {
          "output_type": "execute_result",
          "data": {
            "text/plain": [
              "22386"
            ]
          },
          "metadata": {},
          "execution_count": 3
        }
      ]
    },
    {
      "cell_type": "code",
      "metadata": {
        "colab": {
          "base_uri": "https://localhost:8080/",
          "height": 562
        },
        "id": "HsT5dr4-PbuI",
        "outputId": "786524c0-5bef-4795-f519-df2268a6a51f"
      },
      "source": [
        "#checking the missing values in red wine\n",
        "data.isnull()\n",
        "data"
      ],
      "execution_count": null,
      "outputs": [
        {
          "output_type": "execute_result",
          "data": {
            "text/html": [
              "<div>\n",
              "<style scoped>\n",
              "    .dataframe tbody tr th:only-of-type {\n",
              "        vertical-align: middle;\n",
              "    }\n",
              "\n",
              "    .dataframe tbody tr th {\n",
              "        vertical-align: top;\n",
              "    }\n",
              "\n",
              "    .dataframe thead th {\n",
              "        text-align: right;\n",
              "    }\n",
              "</style>\n",
              "<table border=\"1\" class=\"dataframe\">\n",
              "  <thead>\n",
              "    <tr style=\"text-align: right;\">\n",
              "      <th></th>\n",
              "      <th>fixed acidity</th>\n",
              "      <th>volatile acidity</th>\n",
              "      <th>citric acid</th>\n",
              "      <th>residual sugar</th>\n",
              "      <th>chlorides</th>\n",
              "      <th>free sulfur dioxide</th>\n",
              "      <th>total sulfur dioxide</th>\n",
              "      <th>density</th>\n",
              "      <th>pH</th>\n",
              "      <th>sulphates</th>\n",
              "      <th>quality</th>\n",
              "      <th>taste</th>\n",
              "      <th>phRange</th>\n",
              "      <th>alcohol</th>\n",
              "    </tr>\n",
              "  </thead>\n",
              "  <tbody>\n",
              "    <tr>\n",
              "      <th>0</th>\n",
              "      <td>7.4</td>\n",
              "      <td>0.700</td>\n",
              "      <td>0.00</td>\n",
              "      <td>2</td>\n",
              "      <td>0.076</td>\n",
              "      <td>11</td>\n",
              "      <td>34.0</td>\n",
              "      <td>0.99780</td>\n",
              "      <td>3.51</td>\n",
              "      <td>0.56</td>\n",
              "      <td>5</td>\n",
              "      <td>Good</td>\n",
              "      <td>neutral</td>\n",
              "      <td>9</td>\n",
              "    </tr>\n",
              "    <tr>\n",
              "      <th>1</th>\n",
              "      <td>7.8</td>\n",
              "      <td>0.880</td>\n",
              "      <td>0.00</td>\n",
              "      <td>3</td>\n",
              "      <td>0.098</td>\n",
              "      <td>25</td>\n",
              "      <td>67.0</td>\n",
              "      <td>0.99680</td>\n",
              "      <td>3.20</td>\n",
              "      <td>0.68</td>\n",
              "      <td>5</td>\n",
              "      <td>Good</td>\n",
              "      <td>week acid</td>\n",
              "      <td>10</td>\n",
              "    </tr>\n",
              "    <tr>\n",
              "      <th>2</th>\n",
              "      <td>7.8</td>\n",
              "      <td>0.760</td>\n",
              "      <td>0.04</td>\n",
              "      <td>2</td>\n",
              "      <td>0.092</td>\n",
              "      <td>15</td>\n",
              "      <td>54.0</td>\n",
              "      <td>0.99700</td>\n",
              "      <td>3.26</td>\n",
              "      <td>0.65</td>\n",
              "      <td>5</td>\n",
              "      <td>Good</td>\n",
              "      <td>week acid</td>\n",
              "      <td>10</td>\n",
              "    </tr>\n",
              "    <tr>\n",
              "      <th>3</th>\n",
              "      <td>11.2</td>\n",
              "      <td>0.280</td>\n",
              "      <td>0.56</td>\n",
              "      <td>2</td>\n",
              "      <td>0.075</td>\n",
              "      <td>17</td>\n",
              "      <td>60.0</td>\n",
              "      <td>0.99800</td>\n",
              "      <td>3.16</td>\n",
              "      <td>0.58</td>\n",
              "      <td>6</td>\n",
              "      <td>Good</td>\n",
              "      <td>week acid</td>\n",
              "      <td>10</td>\n",
              "    </tr>\n",
              "    <tr>\n",
              "      <th>4</th>\n",
              "      <td>7.4</td>\n",
              "      <td>0.700</td>\n",
              "      <td>0.00</td>\n",
              "      <td>2</td>\n",
              "      <td>0.076</td>\n",
              "      <td>11</td>\n",
              "      <td>34.0</td>\n",
              "      <td>0.99780</td>\n",
              "      <td>3.51</td>\n",
              "      <td>0.56</td>\n",
              "      <td>5</td>\n",
              "      <td>Good</td>\n",
              "      <td>neutral</td>\n",
              "      <td>9</td>\n",
              "    </tr>\n",
              "    <tr>\n",
              "      <th>...</th>\n",
              "      <td>...</td>\n",
              "      <td>...</td>\n",
              "      <td>...</td>\n",
              "      <td>...</td>\n",
              "      <td>...</td>\n",
              "      <td>...</td>\n",
              "      <td>...</td>\n",
              "      <td>...</td>\n",
              "      <td>...</td>\n",
              "      <td>...</td>\n",
              "      <td>...</td>\n",
              "      <td>...</td>\n",
              "      <td>...</td>\n",
              "      <td>...</td>\n",
              "    </tr>\n",
              "    <tr>\n",
              "      <th>1594</th>\n",
              "      <td>6.2</td>\n",
              "      <td>0.600</td>\n",
              "      <td>0.08</td>\n",
              "      <td>2</td>\n",
              "      <td>0.090</td>\n",
              "      <td>32</td>\n",
              "      <td>44.0</td>\n",
              "      <td>0.99490</td>\n",
              "      <td>3.45</td>\n",
              "      <td>0.58</td>\n",
              "      <td>5</td>\n",
              "      <td>Good</td>\n",
              "      <td>week acid</td>\n",
              "      <td>11</td>\n",
              "    </tr>\n",
              "    <tr>\n",
              "      <th>1595</th>\n",
              "      <td>5.9</td>\n",
              "      <td>0.550</td>\n",
              "      <td>0.10</td>\n",
              "      <td>2</td>\n",
              "      <td>0.062</td>\n",
              "      <td>39</td>\n",
              "      <td>51.0</td>\n",
              "      <td>0.99512</td>\n",
              "      <td>3.52</td>\n",
              "      <td>0.76</td>\n",
              "      <td>6</td>\n",
              "      <td>Good</td>\n",
              "      <td>neutral</td>\n",
              "      <td>11</td>\n",
              "    </tr>\n",
              "    <tr>\n",
              "      <th>1596</th>\n",
              "      <td>6.3</td>\n",
              "      <td>0.510</td>\n",
              "      <td>0.13</td>\n",
              "      <td>2</td>\n",
              "      <td>0.076</td>\n",
              "      <td>29</td>\n",
              "      <td>40.0</td>\n",
              "      <td>0.99574</td>\n",
              "      <td>3.42</td>\n",
              "      <td>0.75</td>\n",
              "      <td>6</td>\n",
              "      <td>Good</td>\n",
              "      <td>week acid</td>\n",
              "      <td>11</td>\n",
              "    </tr>\n",
              "    <tr>\n",
              "      <th>1597</th>\n",
              "      <td>5.9</td>\n",
              "      <td>0.645</td>\n",
              "      <td>0.12</td>\n",
              "      <td>2</td>\n",
              "      <td>0.075</td>\n",
              "      <td>32</td>\n",
              "      <td>44.0</td>\n",
              "      <td>0.99547</td>\n",
              "      <td>3.57</td>\n",
              "      <td>0.71</td>\n",
              "      <td>5</td>\n",
              "      <td>Good</td>\n",
              "      <td>neutral</td>\n",
              "      <td>10</td>\n",
              "    </tr>\n",
              "    <tr>\n",
              "      <th>1598</th>\n",
              "      <td>6.0</td>\n",
              "      <td>0.310</td>\n",
              "      <td>0.47</td>\n",
              "      <td>4</td>\n",
              "      <td>0.067</td>\n",
              "      <td>18</td>\n",
              "      <td>42.0</td>\n",
              "      <td>0.99549</td>\n",
              "      <td>3.39</td>\n",
              "      <td>0.66</td>\n",
              "      <td>6</td>\n",
              "      <td>Good</td>\n",
              "      <td>week acid</td>\n",
              "      <td>11</td>\n",
              "    </tr>\n",
              "  </tbody>\n",
              "</table>\n",
              "<p>1599 rows × 14 columns</p>\n",
              "</div>"
            ],
            "text/plain": [
              "      fixed acidity  volatile acidity  citric acid  ...  taste    phRange  alcohol\n",
              "0               7.4             0.700         0.00  ...   Good    neutral        9\n",
              "1               7.8             0.880         0.00  ...   Good  week acid       10\n",
              "2               7.8             0.760         0.04  ...   Good  week acid       10\n",
              "3              11.2             0.280         0.56  ...   Good  week acid       10\n",
              "4               7.4             0.700         0.00  ...   Good    neutral        9\n",
              "...             ...               ...          ...  ...    ...        ...      ...\n",
              "1594            6.2             0.600         0.08  ...   Good  week acid       11\n",
              "1595            5.9             0.550         0.10  ...   Good    neutral       11\n",
              "1596            6.3             0.510         0.13  ...   Good  week acid       11\n",
              "1597            5.9             0.645         0.12  ...   Good    neutral       10\n",
              "1598            6.0             0.310         0.47  ...   Good  week acid       11\n",
              "\n",
              "[1599 rows x 14 columns]"
            ]
          },
          "metadata": {},
          "execution_count": 4
        }
      ]
    },
    {
      "cell_type": "code",
      "metadata": {
        "colab": {
          "base_uri": "https://localhost:8080/"
        },
        "id": "J1XHgI-xRPTo",
        "outputId": "af3e648e-e131-4c74-a025-f2d29cd07579"
      },
      "source": [
        "data.isnull().sum()"
      ],
      "execution_count": null,
      "outputs": [
        {
          "output_type": "execute_result",
          "data": {
            "text/plain": [
              "fixed acidity           0\n",
              "volatile acidity        0\n",
              "citric acid             0\n",
              "residual sugar          0\n",
              "chlorides               0\n",
              "free sulfur dioxide     0\n",
              "total sulfur dioxide    0\n",
              "density                 0\n",
              "pH                      0\n",
              "sulphates               0\n",
              "quality                 0\n",
              "taste                   0\n",
              "phRange                 0\n",
              "alcohol                 0\n",
              "dtype: int64"
            ]
          },
          "metadata": {},
          "execution_count": 5
        }
      ]
    },
    {
      "cell_type": "code",
      "metadata": {
        "colab": {
          "base_uri": "https://localhost:8080/"
        },
        "id": "wBTRH8caTu7L",
        "outputId": "fdbaaa17-b2c5-4911-f0ef-bcc705c658e2"
      },
      "source": [
        "data.nunique()"
      ],
      "execution_count": null,
      "outputs": [
        {
          "output_type": "execute_result",
          "data": {
            "text/plain": [
              "fixed acidity            96\n",
              "volatile acidity        143\n",
              "citric acid              80\n",
              "residual sugar           14\n",
              "chlorides               153\n",
              "free sulfur dioxide      57\n",
              "total sulfur dioxide    144\n",
              "density                 436\n",
              "pH                       89\n",
              "sulphates                96\n",
              "quality                   6\n",
              "taste                     3\n",
              "phRange                   3\n",
              "alcohol                   8\n",
              "dtype: int64"
            ]
          },
          "metadata": {},
          "execution_count": 6
        }
      ]
    },
    {
      "cell_type": "code",
      "metadata": {
        "colab": {
          "base_uri": "https://localhost:8080/",
          "height": 562
        },
        "id": "vVeRlVK8XktM",
        "outputId": "5527bb5e-daf3-4bb6-ef03-69f771926a70"
      },
      "source": [
        "#we are applying preprocessing technique \n",
        "# assigning 1 to good & 0 to bad \n",
        "data['winequality']=[1 if x>=6 else 0 for x in data['quality']]\n",
        "X=data.drop(['quality','winequality'],axis = 1)\n",
        "y=data['winequality']\n",
        "data"
      ],
      "execution_count": null,
      "outputs": [
        {
          "output_type": "execute_result",
          "data": {
            "text/html": [
              "<div>\n",
              "<style scoped>\n",
              "    .dataframe tbody tr th:only-of-type {\n",
              "        vertical-align: middle;\n",
              "    }\n",
              "\n",
              "    .dataframe tbody tr th {\n",
              "        vertical-align: top;\n",
              "    }\n",
              "\n",
              "    .dataframe thead th {\n",
              "        text-align: right;\n",
              "    }\n",
              "</style>\n",
              "<table border=\"1\" class=\"dataframe\">\n",
              "  <thead>\n",
              "    <tr style=\"text-align: right;\">\n",
              "      <th></th>\n",
              "      <th>fixed acidity</th>\n",
              "      <th>volatile acidity</th>\n",
              "      <th>citric acid</th>\n",
              "      <th>residual sugar</th>\n",
              "      <th>chlorides</th>\n",
              "      <th>free sulfur dioxide</th>\n",
              "      <th>total sulfur dioxide</th>\n",
              "      <th>density</th>\n",
              "      <th>pH</th>\n",
              "      <th>sulphates</th>\n",
              "      <th>quality</th>\n",
              "      <th>taste</th>\n",
              "      <th>phRange</th>\n",
              "      <th>alcohol</th>\n",
              "      <th>winequality</th>\n",
              "    </tr>\n",
              "  </thead>\n",
              "  <tbody>\n",
              "    <tr>\n",
              "      <th>0</th>\n",
              "      <td>7.4</td>\n",
              "      <td>0.700</td>\n",
              "      <td>0.00</td>\n",
              "      <td>2</td>\n",
              "      <td>0.076</td>\n",
              "      <td>11</td>\n",
              "      <td>34.0</td>\n",
              "      <td>0.99780</td>\n",
              "      <td>3.51</td>\n",
              "      <td>0.56</td>\n",
              "      <td>5</td>\n",
              "      <td>Good</td>\n",
              "      <td>neutral</td>\n",
              "      <td>9</td>\n",
              "      <td>0</td>\n",
              "    </tr>\n",
              "    <tr>\n",
              "      <th>1</th>\n",
              "      <td>7.8</td>\n",
              "      <td>0.880</td>\n",
              "      <td>0.00</td>\n",
              "      <td>3</td>\n",
              "      <td>0.098</td>\n",
              "      <td>25</td>\n",
              "      <td>67.0</td>\n",
              "      <td>0.99680</td>\n",
              "      <td>3.20</td>\n",
              "      <td>0.68</td>\n",
              "      <td>5</td>\n",
              "      <td>Good</td>\n",
              "      <td>week acid</td>\n",
              "      <td>10</td>\n",
              "      <td>0</td>\n",
              "    </tr>\n",
              "    <tr>\n",
              "      <th>2</th>\n",
              "      <td>7.8</td>\n",
              "      <td>0.760</td>\n",
              "      <td>0.04</td>\n",
              "      <td>2</td>\n",
              "      <td>0.092</td>\n",
              "      <td>15</td>\n",
              "      <td>54.0</td>\n",
              "      <td>0.99700</td>\n",
              "      <td>3.26</td>\n",
              "      <td>0.65</td>\n",
              "      <td>5</td>\n",
              "      <td>Good</td>\n",
              "      <td>week acid</td>\n",
              "      <td>10</td>\n",
              "      <td>0</td>\n",
              "    </tr>\n",
              "    <tr>\n",
              "      <th>3</th>\n",
              "      <td>11.2</td>\n",
              "      <td>0.280</td>\n",
              "      <td>0.56</td>\n",
              "      <td>2</td>\n",
              "      <td>0.075</td>\n",
              "      <td>17</td>\n",
              "      <td>60.0</td>\n",
              "      <td>0.99800</td>\n",
              "      <td>3.16</td>\n",
              "      <td>0.58</td>\n",
              "      <td>6</td>\n",
              "      <td>Good</td>\n",
              "      <td>week acid</td>\n",
              "      <td>10</td>\n",
              "      <td>1</td>\n",
              "    </tr>\n",
              "    <tr>\n",
              "      <th>4</th>\n",
              "      <td>7.4</td>\n",
              "      <td>0.700</td>\n",
              "      <td>0.00</td>\n",
              "      <td>2</td>\n",
              "      <td>0.076</td>\n",
              "      <td>11</td>\n",
              "      <td>34.0</td>\n",
              "      <td>0.99780</td>\n",
              "      <td>3.51</td>\n",
              "      <td>0.56</td>\n",
              "      <td>5</td>\n",
              "      <td>Good</td>\n",
              "      <td>neutral</td>\n",
              "      <td>9</td>\n",
              "      <td>0</td>\n",
              "    </tr>\n",
              "    <tr>\n",
              "      <th>...</th>\n",
              "      <td>...</td>\n",
              "      <td>...</td>\n",
              "      <td>...</td>\n",
              "      <td>...</td>\n",
              "      <td>...</td>\n",
              "      <td>...</td>\n",
              "      <td>...</td>\n",
              "      <td>...</td>\n",
              "      <td>...</td>\n",
              "      <td>...</td>\n",
              "      <td>...</td>\n",
              "      <td>...</td>\n",
              "      <td>...</td>\n",
              "      <td>...</td>\n",
              "      <td>...</td>\n",
              "    </tr>\n",
              "    <tr>\n",
              "      <th>1594</th>\n",
              "      <td>6.2</td>\n",
              "      <td>0.600</td>\n",
              "      <td>0.08</td>\n",
              "      <td>2</td>\n",
              "      <td>0.090</td>\n",
              "      <td>32</td>\n",
              "      <td>44.0</td>\n",
              "      <td>0.99490</td>\n",
              "      <td>3.45</td>\n",
              "      <td>0.58</td>\n",
              "      <td>5</td>\n",
              "      <td>Good</td>\n",
              "      <td>week acid</td>\n",
              "      <td>11</td>\n",
              "      <td>0</td>\n",
              "    </tr>\n",
              "    <tr>\n",
              "      <th>1595</th>\n",
              "      <td>5.9</td>\n",
              "      <td>0.550</td>\n",
              "      <td>0.10</td>\n",
              "      <td>2</td>\n",
              "      <td>0.062</td>\n",
              "      <td>39</td>\n",
              "      <td>51.0</td>\n",
              "      <td>0.99512</td>\n",
              "      <td>3.52</td>\n",
              "      <td>0.76</td>\n",
              "      <td>6</td>\n",
              "      <td>Good</td>\n",
              "      <td>neutral</td>\n",
              "      <td>11</td>\n",
              "      <td>1</td>\n",
              "    </tr>\n",
              "    <tr>\n",
              "      <th>1596</th>\n",
              "      <td>6.3</td>\n",
              "      <td>0.510</td>\n",
              "      <td>0.13</td>\n",
              "      <td>2</td>\n",
              "      <td>0.076</td>\n",
              "      <td>29</td>\n",
              "      <td>40.0</td>\n",
              "      <td>0.99574</td>\n",
              "      <td>3.42</td>\n",
              "      <td>0.75</td>\n",
              "      <td>6</td>\n",
              "      <td>Good</td>\n",
              "      <td>week acid</td>\n",
              "      <td>11</td>\n",
              "      <td>1</td>\n",
              "    </tr>\n",
              "    <tr>\n",
              "      <th>1597</th>\n",
              "      <td>5.9</td>\n",
              "      <td>0.645</td>\n",
              "      <td>0.12</td>\n",
              "      <td>2</td>\n",
              "      <td>0.075</td>\n",
              "      <td>32</td>\n",
              "      <td>44.0</td>\n",
              "      <td>0.99547</td>\n",
              "      <td>3.57</td>\n",
              "      <td>0.71</td>\n",
              "      <td>5</td>\n",
              "      <td>Good</td>\n",
              "      <td>neutral</td>\n",
              "      <td>10</td>\n",
              "      <td>0</td>\n",
              "    </tr>\n",
              "    <tr>\n",
              "      <th>1598</th>\n",
              "      <td>6.0</td>\n",
              "      <td>0.310</td>\n",
              "      <td>0.47</td>\n",
              "      <td>4</td>\n",
              "      <td>0.067</td>\n",
              "      <td>18</td>\n",
              "      <td>42.0</td>\n",
              "      <td>0.99549</td>\n",
              "      <td>3.39</td>\n",
              "      <td>0.66</td>\n",
              "      <td>6</td>\n",
              "      <td>Good</td>\n",
              "      <td>week acid</td>\n",
              "      <td>11</td>\n",
              "      <td>1</td>\n",
              "    </tr>\n",
              "  </tbody>\n",
              "</table>\n",
              "<p>1599 rows × 15 columns</p>\n",
              "</div>"
            ],
            "text/plain": [
              "      fixed acidity  volatile acidity  ...  alcohol  winequality\n",
              "0               7.4             0.700  ...        9            0\n",
              "1               7.8             0.880  ...       10            0\n",
              "2               7.8             0.760  ...       10            0\n",
              "3              11.2             0.280  ...       10            1\n",
              "4               7.4             0.700  ...        9            0\n",
              "...             ...               ...  ...      ...          ...\n",
              "1594            6.2             0.600  ...       11            0\n",
              "1595            5.9             0.550  ...       11            1\n",
              "1596            6.3             0.510  ...       11            1\n",
              "1597            5.9             0.645  ...       10            0\n",
              "1598            6.0             0.310  ...       11            1\n",
              "\n",
              "[1599 rows x 15 columns]"
            ]
          },
          "metadata": {},
          "execution_count": 7
        }
      ]
    },
    {
      "cell_type": "code",
      "metadata": {
        "colab": {
          "base_uri": "https://localhost:8080/",
          "height": 598
        },
        "id": "FgzywxXBk51S",
        "outputId": "30838dec-15c2-474d-8c0c-c5823cbb4931"
      },
      "source": [
        "data.corr()"
      ],
      "execution_count": null,
      "outputs": [
        {
          "output_type": "execute_result",
          "data": {
            "text/html": [
              "<div>\n",
              "<style scoped>\n",
              "    .dataframe tbody tr th:only-of-type {\n",
              "        vertical-align: middle;\n",
              "    }\n",
              "\n",
              "    .dataframe tbody tr th {\n",
              "        vertical-align: top;\n",
              "    }\n",
              "\n",
              "    .dataframe thead th {\n",
              "        text-align: right;\n",
              "    }\n",
              "</style>\n",
              "<table border=\"1\" class=\"dataframe\">\n",
              "  <thead>\n",
              "    <tr style=\"text-align: right;\">\n",
              "      <th></th>\n",
              "      <th>fixed acidity</th>\n",
              "      <th>volatile acidity</th>\n",
              "      <th>citric acid</th>\n",
              "      <th>residual sugar</th>\n",
              "      <th>chlorides</th>\n",
              "      <th>free sulfur dioxide</th>\n",
              "      <th>total sulfur dioxide</th>\n",
              "      <th>density</th>\n",
              "      <th>pH</th>\n",
              "      <th>sulphates</th>\n",
              "      <th>quality</th>\n",
              "      <th>alcohol</th>\n",
              "      <th>winequality</th>\n",
              "    </tr>\n",
              "  </thead>\n",
              "  <tbody>\n",
              "    <tr>\n",
              "      <th>fixed acidity</th>\n",
              "      <td>1.000000</td>\n",
              "      <td>-0.256131</td>\n",
              "      <td>0.671703</td>\n",
              "      <td>0.111856</td>\n",
              "      <td>0.093705</td>\n",
              "      <td>-0.153845</td>\n",
              "      <td>-0.113181</td>\n",
              "      <td>0.668047</td>\n",
              "      <td>-0.682978</td>\n",
              "      <td>0.183006</td>\n",
              "      <td>0.124052</td>\n",
              "      <td>-0.069457</td>\n",
              "      <td>0.095093</td>\n",
              "    </tr>\n",
              "    <tr>\n",
              "      <th>volatile acidity</th>\n",
              "      <td>-0.256131</td>\n",
              "      <td>1.000000</td>\n",
              "      <td>-0.552496</td>\n",
              "      <td>-0.009652</td>\n",
              "      <td>0.061298</td>\n",
              "      <td>-0.010592</td>\n",
              "      <td>0.076470</td>\n",
              "      <td>0.022026</td>\n",
              "      <td>0.234937</td>\n",
              "      <td>-0.260987</td>\n",
              "      <td>-0.390558</td>\n",
              "      <td>-0.189703</td>\n",
              "      <td>-0.321441</td>\n",
              "    </tr>\n",
              "    <tr>\n",
              "      <th>citric acid</th>\n",
              "      <td>0.671703</td>\n",
              "      <td>-0.552496</td>\n",
              "      <td>1.000000</td>\n",
              "      <td>0.143676</td>\n",
              "      <td>0.203823</td>\n",
              "      <td>-0.060836</td>\n",
              "      <td>0.035533</td>\n",
              "      <td>0.364947</td>\n",
              "      <td>-0.541904</td>\n",
              "      <td>0.312770</td>\n",
              "      <td>0.226373</td>\n",
              "      <td>0.088803</td>\n",
              "      <td>0.159129</td>\n",
              "    </tr>\n",
              "    <tr>\n",
              "      <th>residual sugar</th>\n",
              "      <td>0.111856</td>\n",
              "      <td>-0.009652</td>\n",
              "      <td>0.143676</td>\n",
              "      <td>1.000000</td>\n",
              "      <td>0.063728</td>\n",
              "      <td>0.188242</td>\n",
              "      <td>0.200452</td>\n",
              "      <td>0.357048</td>\n",
              "      <td>-0.083502</td>\n",
              "      <td>0.011681</td>\n",
              "      <td>0.008677</td>\n",
              "      <td>0.022459</td>\n",
              "      <td>-0.012272</td>\n",
              "    </tr>\n",
              "    <tr>\n",
              "      <th>chlorides</th>\n",
              "      <td>0.093705</td>\n",
              "      <td>0.061298</td>\n",
              "      <td>0.203823</td>\n",
              "      <td>0.063728</td>\n",
              "      <td>1.000000</td>\n",
              "      <td>0.005599</td>\n",
              "      <td>0.047400</td>\n",
              "      <td>0.200632</td>\n",
              "      <td>-0.265026</td>\n",
              "      <td>0.371260</td>\n",
              "      <td>-0.128907</td>\n",
              "      <td>-0.226898</td>\n",
              "      <td>-0.109494</td>\n",
              "    </tr>\n",
              "    <tr>\n",
              "      <th>free sulfur dioxide</th>\n",
              "      <td>-0.153845</td>\n",
              "      <td>-0.010592</td>\n",
              "      <td>-0.060836</td>\n",
              "      <td>0.188242</td>\n",
              "      <td>0.005599</td>\n",
              "      <td>1.000000</td>\n",
              "      <td>0.668095</td>\n",
              "      <td>-0.022154</td>\n",
              "      <td>0.070254</td>\n",
              "      <td>0.051574</td>\n",
              "      <td>-0.050520</td>\n",
              "      <td>-0.070363</td>\n",
              "      <td>-0.061635</td>\n",
              "    </tr>\n",
              "    <tr>\n",
              "      <th>total sulfur dioxide</th>\n",
              "      <td>-0.113181</td>\n",
              "      <td>0.076470</td>\n",
              "      <td>0.035533</td>\n",
              "      <td>0.200452</td>\n",
              "      <td>0.047400</td>\n",
              "      <td>0.668095</td>\n",
              "      <td>1.000000</td>\n",
              "      <td>0.071269</td>\n",
              "      <td>-0.066495</td>\n",
              "      <td>0.042947</td>\n",
              "      <td>-0.185100</td>\n",
              "      <td>-0.193804</td>\n",
              "      <td>-0.231963</td>\n",
              "    </tr>\n",
              "    <tr>\n",
              "      <th>density</th>\n",
              "      <td>0.668047</td>\n",
              "      <td>0.022026</td>\n",
              "      <td>0.364947</td>\n",
              "      <td>0.357048</td>\n",
              "      <td>0.200632</td>\n",
              "      <td>-0.022154</td>\n",
              "      <td>0.071269</td>\n",
              "      <td>1.000000</td>\n",
              "      <td>-0.341699</td>\n",
              "      <td>0.148506</td>\n",
              "      <td>-0.174919</td>\n",
              "      <td>-0.478918</td>\n",
              "      <td>-0.159110</td>\n",
              "    </tr>\n",
              "    <tr>\n",
              "      <th>pH</th>\n",
              "      <td>-0.682978</td>\n",
              "      <td>0.234937</td>\n",
              "      <td>-0.541904</td>\n",
              "      <td>-0.083502</td>\n",
              "      <td>-0.265026</td>\n",
              "      <td>0.070254</td>\n",
              "      <td>-0.066495</td>\n",
              "      <td>-0.341699</td>\n",
              "      <td>1.000000</td>\n",
              "      <td>-0.196648</td>\n",
              "      <td>-0.057731</td>\n",
              "      <td>0.221305</td>\n",
              "      <td>-0.003264</td>\n",
              "    </tr>\n",
              "    <tr>\n",
              "      <th>sulphates</th>\n",
              "      <td>0.183006</td>\n",
              "      <td>-0.260987</td>\n",
              "      <td>0.312770</td>\n",
              "      <td>0.011681</td>\n",
              "      <td>0.371260</td>\n",
              "      <td>0.051574</td>\n",
              "      <td>0.042947</td>\n",
              "      <td>0.148506</td>\n",
              "      <td>-0.196648</td>\n",
              "      <td>1.000000</td>\n",
              "      <td>0.251397</td>\n",
              "      <td>0.079568</td>\n",
              "      <td>0.218072</td>\n",
              "    </tr>\n",
              "    <tr>\n",
              "      <th>quality</th>\n",
              "      <td>0.124052</td>\n",
              "      <td>-0.390558</td>\n",
              "      <td>0.226373</td>\n",
              "      <td>0.008677</td>\n",
              "      <td>-0.128907</td>\n",
              "      <td>-0.050520</td>\n",
              "      <td>-0.185100</td>\n",
              "      <td>-0.174919</td>\n",
              "      <td>-0.057731</td>\n",
              "      <td>0.251397</td>\n",
              "      <td>1.000000</td>\n",
              "      <td>0.464345</td>\n",
              "      <td>0.848279</td>\n",
              "    </tr>\n",
              "    <tr>\n",
              "      <th>alcohol</th>\n",
              "      <td>-0.069457</td>\n",
              "      <td>-0.189703</td>\n",
              "      <td>0.088803</td>\n",
              "      <td>0.022459</td>\n",
              "      <td>-0.226898</td>\n",
              "      <td>-0.070363</td>\n",
              "      <td>-0.193804</td>\n",
              "      <td>-0.478918</td>\n",
              "      <td>0.221305</td>\n",
              "      <td>0.079568</td>\n",
              "      <td>0.464345</td>\n",
              "      <td>1.000000</td>\n",
              "      <td>0.420033</td>\n",
              "    </tr>\n",
              "    <tr>\n",
              "      <th>winequality</th>\n",
              "      <td>0.095093</td>\n",
              "      <td>-0.321441</td>\n",
              "      <td>0.159129</td>\n",
              "      <td>-0.012272</td>\n",
              "      <td>-0.109494</td>\n",
              "      <td>-0.061635</td>\n",
              "      <td>-0.231963</td>\n",
              "      <td>-0.159110</td>\n",
              "      <td>-0.003264</td>\n",
              "      <td>0.218072</td>\n",
              "      <td>0.848279</td>\n",
              "      <td>0.420033</td>\n",
              "      <td>1.000000</td>\n",
              "    </tr>\n",
              "  </tbody>\n",
              "</table>\n",
              "</div>"
            ],
            "text/plain": [
              "                      fixed acidity  volatile acidity  ...   alcohol  winequality\n",
              "fixed acidity              1.000000         -0.256131  ... -0.069457     0.095093\n",
              "volatile acidity          -0.256131          1.000000  ... -0.189703    -0.321441\n",
              "citric acid                0.671703         -0.552496  ...  0.088803     0.159129\n",
              "residual sugar             0.111856         -0.009652  ...  0.022459    -0.012272\n",
              "chlorides                  0.093705          0.061298  ... -0.226898    -0.109494\n",
              "free sulfur dioxide       -0.153845         -0.010592  ... -0.070363    -0.061635\n",
              "total sulfur dioxide      -0.113181          0.076470  ... -0.193804    -0.231963\n",
              "density                    0.668047          0.022026  ... -0.478918    -0.159110\n",
              "pH                        -0.682978          0.234937  ...  0.221305    -0.003264\n",
              "sulphates                  0.183006         -0.260987  ...  0.079568     0.218072\n",
              "quality                    0.124052         -0.390558  ...  0.464345     0.848279\n",
              "alcohol                   -0.069457         -0.189703  ...  1.000000     0.420033\n",
              "winequality                0.095093         -0.321441  ...  0.420033     1.000000\n",
              "\n",
              "[13 rows x 13 columns]"
            ]
          },
          "metadata": {},
          "execution_count": 8
        }
      ]
    },
    {
      "cell_type": "code",
      "metadata": {
        "colab": {
          "base_uri": "https://localhost:8080/",
          "height": 365
        },
        "id": "R1LAOXlvlKV-",
        "outputId": "127131c6-3f9d-4ffa-dd55-b096ce03b92d"
      },
      "source": [
        "from sklearn.metrics import confusion_matrix\n",
        "import seaborn as sns; sns.set()\n",
        "sns.heatmap(data.corr(),annot=True)\n",
        "plt.show()"
      ],
      "execution_count": null,
      "outputs": [
        {
          "output_type": "display_data",
          "data": {
            "image/png": "[encoded data removed]",
            "text/plain": [
              "<Figure size 432x288 with 2 Axes>"
            ]
          },
          "metadata": {}
        }
      ]
    },
    {
      "cell_type": "code",
      "metadata": {
        "colab": {
          "base_uri": "https://localhost:8080/",
          "height": 441
        },
        "id": "wC1xPIeLUs7j",
        "outputId": "5a47a6ee-2dc1-48c6-eb07-37b52b96b3fe"
      },
      "source": [
        "#Splittig the dataset to be train and test\n",
        "from sklearn.model_selection import train_test_split\n",
        "x = data[['fixed acidity','volatile acidity','citric acid','residual sugar','chlorides','free sulfur dioxide','total sulfur dioxide','density','pH','sulphates','alcohol','quality']]\n",
        "y = data['winequality']\n",
        "X = pd.get_dummies(x)\n",
        "X"
      ],
      "execution_count": null,
      "outputs": [
        {
          "output_type": "execute_result",
          "data": {
            "text/html": [
              "<div>\n",
              "<style scoped>\n",
              "    .dataframe tbody tr th:only-of-type {\n",
              "        vertical-align: middle;\n",
              "    }\n",
              "\n",
              "    .dataframe tbody tr th {\n",
              "        vertical-align: top;\n",
              "    }\n",
              "\n",
              "    .dataframe thead th {\n",
              "        text-align: right;\n",
              "    }\n",
              "</style>\n",
              "<table border=\"1\" class=\"dataframe\">\n",
              "  <thead>\n",
              "    <tr style=\"text-align: right;\">\n",
              "      <th></th>\n",
              "      <th>fixed acidity</th>\n",
              "      <th>volatile acidity</th>\n",
              "      <th>citric acid</th>\n",
              "      <th>residual sugar</th>\n",
              "      <th>chlorides</th>\n",
              "      <th>free sulfur dioxide</th>\n",
              "      <th>total sulfur dioxide</th>\n",
              "      <th>density</th>\n",
              "      <th>pH</th>\n",
              "      <th>sulphates</th>\n",
              "      <th>alcohol</th>\n",
              "      <th>quality</th>\n",
              "    </tr>\n",
              "  </thead>\n",
              "  <tbody>\n",
              "    <tr>\n",
              "      <th>0</th>\n",
              "      <td>7.4</td>\n",
              "      <td>0.700</td>\n",
              "      <td>0.00</td>\n",
              "      <td>2</td>\n",
              "      <td>0.076</td>\n",
              "      <td>11</td>\n",
              "      <td>34.0</td>\n",
              "      <td>0.99780</td>\n",
              "      <td>3.51</td>\n",
              "      <td>0.56</td>\n",
              "      <td>9</td>\n",
              "      <td>5</td>\n",
              "    </tr>\n",
              "    <tr>\n",
              "      <th>1</th>\n",
              "      <td>7.8</td>\n",
              "      <td>0.880</td>\n",
              "      <td>0.00</td>\n",
              "      <td>3</td>\n",
              "      <td>0.098</td>\n",
              "      <td>25</td>\n",
              "      <td>67.0</td>\n",
              "      <td>0.99680</td>\n",
              "      <td>3.20</td>\n",
              "      <td>0.68</td>\n",
              "      <td>10</td>\n",
              "      <td>5</td>\n",
              "    </tr>\n",
              "    <tr>\n",
              "      <th>2</th>\n",
              "      <td>7.8</td>\n",
              "      <td>0.760</td>\n",
              "      <td>0.04</td>\n",
              "      <td>2</td>\n",
              "      <td>0.092</td>\n",
              "      <td>15</td>\n",
              "      <td>54.0</td>\n",
              "      <td>0.99700</td>\n",
              "      <td>3.26</td>\n",
              "      <td>0.65</td>\n",
              "      <td>10</td>\n",
              "      <td>5</td>\n",
              "    </tr>\n",
              "    <tr>\n",
              "      <th>3</th>\n",
              "      <td>11.2</td>\n",
              "      <td>0.280</td>\n",
              "      <td>0.56</td>\n",
              "      <td>2</td>\n",
              "      <td>0.075</td>\n",
              "      <td>17</td>\n",
              "      <td>60.0</td>\n",
              "      <td>0.99800</td>\n",
              "      <td>3.16</td>\n",
              "      <td>0.58</td>\n",
              "      <td>10</td>\n",
              "      <td>6</td>\n",
              "    </tr>\n",
              "    <tr>\n",
              "      <th>4</th>\n",
              "      <td>7.4</td>\n",
              "      <td>0.700</td>\n",
              "      <td>0.00</td>\n",
              "      <td>2</td>\n",
              "      <td>0.076</td>\n",
              "      <td>11</td>\n",
              "      <td>34.0</td>\n",
              "      <td>0.99780</td>\n",
              "      <td>3.51</td>\n",
              "      <td>0.56</td>\n",
              "      <td>9</td>\n",
              "      <td>5</td>\n",
              "    </tr>\n",
              "    <tr>\n",
              "      <th>...</th>\n",
              "      <td>...</td>\n",
              "      <td>...</td>\n",
              "      <td>...</td>\n",
              "      <td>...</td>\n",
              "      <td>...</td>\n",
              "      <td>...</td>\n",
              "      <td>...</td>\n",
              "      <td>...</td>\n",
              "      <td>...</td>\n",
              "      <td>...</td>\n",
              "      <td>...</td>\n",
              "      <td>...</td>\n",
              "    </tr>\n",
              "    <tr>\n",
              "      <th>1594</th>\n",
              "      <td>6.2</td>\n",
              "      <td>0.600</td>\n",
              "      <td>0.08</td>\n",
              "      <td>2</td>\n",
              "      <td>0.090</td>\n",
              "      <td>32</td>\n",
              "      <td>44.0</td>\n",
              "      <td>0.99490</td>\n",
              "      <td>3.45</td>\n",
              "      <td>0.58</td>\n",
              "      <td>11</td>\n",
              "      <td>5</td>\n",
              "    </tr>\n",
              "    <tr>\n",
              "      <th>1595</th>\n",
              "      <td>5.9</td>\n",
              "      <td>0.550</td>\n",
              "      <td>0.10</td>\n",
              "      <td>2</td>\n",
              "      <td>0.062</td>\n",
              "      <td>39</td>\n",
              "      <td>51.0</td>\n",
              "      <td>0.99512</td>\n",
              "      <td>3.52</td>\n",
              "      <td>0.76</td>\n",
              "      <td>11</td>\n",
              "      <td>6</td>\n",
              "    </tr>\n",
              "    <tr>\n",
              "      <th>1596</th>\n",
              "      <td>6.3</td>\n",
              "      <td>0.510</td>\n",
              "      <td>0.13</td>\n",
              "      <td>2</td>\n",
              "      <td>0.076</td>\n",
              "      <td>29</td>\n",
              "      <td>40.0</td>\n",
              "      <td>0.99574</td>\n",
              "      <td>3.42</td>\n",
              "      <td>0.75</td>\n",
              "      <td>11</td>\n",
              "      <td>6</td>\n",
              "    </tr>\n",
              "    <tr>\n",
              "      <th>1597</th>\n",
              "      <td>5.9</td>\n",
              "      <td>0.645</td>\n",
              "      <td>0.12</td>\n",
              "      <td>2</td>\n",
              "      <td>0.075</td>\n",
              "      <td>32</td>\n",
              "      <td>44.0</td>\n",
              "      <td>0.99547</td>\n",
              "      <td>3.57</td>\n",
              "      <td>0.71</td>\n",
              "      <td>10</td>\n",
              "      <td>5</td>\n",
              "    </tr>\n",
              "    <tr>\n",
              "      <th>1598</th>\n",
              "      <td>6.0</td>\n",
              "      <td>0.310</td>\n",
              "      <td>0.47</td>\n",
              "      <td>4</td>\n",
              "      <td>0.067</td>\n",
              "      <td>18</td>\n",
              "      <td>42.0</td>\n",
              "      <td>0.99549</td>\n",
              "      <td>3.39</td>\n",
              "      <td>0.66</td>\n",
              "      <td>11</td>\n",
              "      <td>6</td>\n",
              "    </tr>\n",
              "  </tbody>\n",
              "</table>\n",
              "<p>1599 rows × 12 columns</p>\n",
              "</div>"
            ],
            "text/plain": [
              "      fixed acidity  volatile acidity  citric acid  ...  sulphates  alcohol  quality\n",
              "0               7.4             0.700         0.00  ...       0.56        9        5\n",
              "1               7.8             0.880         0.00  ...       0.68       10        5\n",
              "2               7.8             0.760         0.04  ...       0.65       10        5\n",
              "3              11.2             0.280         0.56  ...       0.58       10        6\n",
              "4               7.4             0.700         0.00  ...       0.56        9        5\n",
              "...             ...               ...          ...  ...        ...      ...      ...\n",
              "1594            6.2             0.600         0.08  ...       0.58       11        5\n",
              "1595            5.9             0.550         0.10  ...       0.76       11        6\n",
              "1596            6.3             0.510         0.13  ...       0.75       11        6\n",
              "1597            5.9             0.645         0.12  ...       0.71       10        5\n",
              "1598            6.0             0.310         0.47  ...       0.66       11        6\n",
              "\n",
              "[1599 rows x 12 columns]"
            ]
          },
          "metadata": {},
          "execution_count": 10
        }
      ]
    },
    {
      "cell_type": "code",
      "metadata": {
        "colab": {
          "base_uri": "https://localhost:8080/"
        },
        "id": "hUSlg3PbWEYy",
        "outputId": "611412fb-4bac-402a-93cd-6dbe7978f01d"
      },
      "source": [
        "y"
      ],
      "execution_count": null,
      "outputs": [
        {
          "output_type": "execute_result",
          "data": {
            "text/plain": [
              "0       0\n",
              "1       0\n",
              "2       0\n",
              "3       1\n",
              "4       0\n",
              "       ..\n",
              "1594    0\n",
              "1595    1\n",
              "1596    1\n",
              "1597    0\n",
              "1598    1\n",
              "Name: winequality, Length: 1599, dtype: int64"
            ]
          },
          "metadata": {},
          "execution_count": 11
        }
      ]
    },
    {
      "cell_type": "code",
      "metadata": {
        "id": "4vvjPLW3WGrt"
      },
      "source": [
        "#Train 80% , Test 20%\n",
        "x_train, x_test, y_train, y_test = train_test_split(X, y, test_size=0.2, random_state=0)"
      ],
      "execution_count": null,
      "outputs": []
    },
    {
      "cell_type": "code",
      "metadata": {
        "colab": {
          "base_uri": "https://localhost:8080/",
          "height": 562
        },
        "id": "bJGg6ntRWNL7",
        "outputId": "4a1a926b-32dd-45ba-acbc-68d3ca82b161"
      },
      "source": [
        "from sklearn.impute import SimpleImputer\n",
        "i = SimpleImputer(missing_values=np.nan, strategy='most_frequent')\n",
        "pd.DataFrame(i.fit_transform(data),columns=data.columns,index=data.index)"
      ],
      "execution_count": null,
      "outputs": [
        {
          "output_type": "execute_result",
          "data": {
            "text/html": [
              "<div>\n",
              "<style scoped>\n",
              "    .dataframe tbody tr th:only-of-type {\n",
              "        vertical-align: middle;\n",
              "    }\n",
              "\n",
              "    .dataframe tbody tr th {\n",
              "        vertical-align: top;\n",
              "    }\n",
              "\n",
              "    .dataframe thead th {\n",
              "        text-align: right;\n",
              "    }\n",
              "</style>\n",
              "<table border=\"1\" class=\"dataframe\">\n",
              "  <thead>\n",
              "    <tr style=\"text-align: right;\">\n",
              "      <th></th>\n",
              "      <th>fixed acidity</th>\n",
              "      <th>volatile acidity</th>\n",
              "      <th>citric acid</th>\n",
              "      <th>residual sugar</th>\n",
              "      <th>chlorides</th>\n",
              "      <th>free sulfur dioxide</th>\n",
              "      <th>total sulfur dioxide</th>\n",
              "      <th>density</th>\n",
              "      <th>pH</th>\n",
              "      <th>sulphates</th>\n",
              "      <th>quality</th>\n",
              "      <th>taste</th>\n",
              "      <th>phRange</th>\n",
              "      <th>alcohol</th>\n",
              "      <th>winequality</th>\n",
              "    </tr>\n",
              "  </thead>\n",
              "  <tbody>\n",
              "    <tr>\n",
              "      <th>0</th>\n",
              "      <td>7.4</td>\n",
              "      <td>0.7</td>\n",
              "      <td>0</td>\n",
              "      <td>2</td>\n",
              "      <td>0.076</td>\n",
              "      <td>11</td>\n",
              "      <td>34</td>\n",
              "      <td>0.9978</td>\n",
              "      <td>3.51</td>\n",
              "      <td>0.56</td>\n",
              "      <td>5</td>\n",
              "      <td>Good</td>\n",
              "      <td>neutral</td>\n",
              "      <td>9</td>\n",
              "      <td>0</td>\n",
              "    </tr>\n",
              "    <tr>\n",
              "      <th>1</th>\n",
              "      <td>7.8</td>\n",
              "      <td>0.88</td>\n",
              "      <td>0</td>\n",
              "      <td>3</td>\n",
              "      <td>0.098</td>\n",
              "      <td>25</td>\n",
              "      <td>67</td>\n",
              "      <td>0.9968</td>\n",
              "      <td>3.2</td>\n",
              "      <td>0.68</td>\n",
              "      <td>5</td>\n",
              "      <td>Good</td>\n",
              "      <td>week acid</td>\n",
              "      <td>10</td>\n",
              "      <td>0</td>\n",
              "    </tr>\n",
              "    <tr>\n",
              "      <th>2</th>\n",
              "      <td>7.8</td>\n",
              "      <td>0.76</td>\n",
              "      <td>0.04</td>\n",
              "      <td>2</td>\n",
              "      <td>0.092</td>\n",
              "      <td>15</td>\n",
              "      <td>54</td>\n",
              "      <td>0.997</td>\n",
              "      <td>3.26</td>\n",
              "      <td>0.65</td>\n",
              "      <td>5</td>\n",
              "      <td>Good</td>\n",
              "      <td>week acid</td>\n",
              "      <td>10</td>\n",
              "      <td>0</td>\n",
              "    </tr>\n",
              "    <tr>\n",
              "      <th>3</th>\n",
              "      <td>11.2</td>\n",
              "      <td>0.28</td>\n",
              "      <td>0.56</td>\n",
              "      <td>2</td>\n",
              "      <td>0.075</td>\n",
              "      <td>17</td>\n",
              "      <td>60</td>\n",
              "      <td>0.998</td>\n",
              "      <td>3.16</td>\n",
              "      <td>0.58</td>\n",
              "      <td>6</td>\n",
              "      <td>Good</td>\n",
              "      <td>week acid</td>\n",
              "      <td>10</td>\n",
              "      <td>1</td>\n",
              "    </tr>\n",
              "    <tr>\n",
              "      <th>4</th>\n",
              "      <td>7.4</td>\n",
              "      <td>0.7</td>\n",
              "      <td>0</td>\n",
              "      <td>2</td>\n",
              "      <td>0.076</td>\n",
              "      <td>11</td>\n",
              "      <td>34</td>\n",
              "      <td>0.9978</td>\n",
              "      <td>3.51</td>\n",
              "      <td>0.56</td>\n",
              "      <td>5</td>\n",
              "      <td>Good</td>\n",
              "      <td>neutral</td>\n",
              "      <td>9</td>\n",
              "      <td>0</td>\n",
              "    </tr>\n",
              "    <tr>\n",
              "      <th>...</th>\n",
              "      <td>...</td>\n",
              "      <td>...</td>\n",
              "      <td>...</td>\n",
              "      <td>...</td>\n",
              "      <td>...</td>\n",
              "      <td>...</td>\n",
              "      <td>...</td>\n",
              "      <td>...</td>\n",
              "      <td>...</td>\n",
              "      <td>...</td>\n",
              "      <td>...</td>\n",
              "      <td>...</td>\n",
              "      <td>...</td>\n",
              "      <td>...</td>\n",
              "      <td>...</td>\n",
              "    </tr>\n",
              "    <tr>\n",
              "      <th>1594</th>\n",
              "      <td>6.2</td>\n",
              "      <td>0.6</td>\n",
              "      <td>0.08</td>\n",
              "      <td>2</td>\n",
              "      <td>0.09</td>\n",
              "      <td>32</td>\n",
              "      <td>44</td>\n",
              "      <td>0.9949</td>\n",
              "      <td>3.45</td>\n",
              "      <td>0.58</td>\n",
              "      <td>5</td>\n",
              "      <td>Good</td>\n",
              "      <td>week acid</td>\n",
              "      <td>11</td>\n",
              "      <td>0</td>\n",
              "    </tr>\n",
              "    <tr>\n",
              "      <th>1595</th>\n",
              "      <td>5.9</td>\n",
              "      <td>0.55</td>\n",
              "      <td>0.1</td>\n",
              "      <td>2</td>\n",
              "      <td>0.062</td>\n",
              "      <td>39</td>\n",
              "      <td>51</td>\n",
              "      <td>0.99512</td>\n",
              "      <td>3.52</td>\n",
              "      <td>0.76</td>\n",
              "      <td>6</td>\n",
              "      <td>Good</td>\n",
              "      <td>neutral</td>\n",
              "      <td>11</td>\n",
              "      <td>1</td>\n",
              "    </tr>\n",
              "    <tr>\n",
              "      <th>1596</th>\n",
              "      <td>6.3</td>\n",
              "      <td>0.51</td>\n",
              "      <td>0.13</td>\n",
              "      <td>2</td>\n",
              "      <td>0.076</td>\n",
              "      <td>29</td>\n",
              "      <td>40</td>\n",
              "      <td>0.99574</td>\n",
              "      <td>3.42</td>\n",
              "      <td>0.75</td>\n",
              "      <td>6</td>\n",
              "      <td>Good</td>\n",
              "      <td>week acid</td>\n",
              "      <td>11</td>\n",
              "      <td>1</td>\n",
              "    </tr>\n",
              "    <tr>\n",
              "      <th>1597</th>\n",
              "      <td>5.9</td>\n",
              "      <td>0.645</td>\n",
              "      <td>0.12</td>\n",
              "      <td>2</td>\n",
              "      <td>0.075</td>\n",
              "      <td>32</td>\n",
              "      <td>44</td>\n",
              "      <td>0.99547</td>\n",
              "      <td>3.57</td>\n",
              "      <td>0.71</td>\n",
              "      <td>5</td>\n",
              "      <td>Good</td>\n",
              "      <td>neutral</td>\n",
              "      <td>10</td>\n",
              "      <td>0</td>\n",
              "    </tr>\n",
              "    <tr>\n",
              "      <th>1598</th>\n",
              "      <td>6</td>\n",
              "      <td>0.31</td>\n",
              "      <td>0.47</td>\n",
              "      <td>4</td>\n",
              "      <td>0.067</td>\n",
              "      <td>18</td>\n",
              "      <td>42</td>\n",
              "      <td>0.99549</td>\n",
              "      <td>3.39</td>\n",
              "      <td>0.66</td>\n",
              "      <td>6</td>\n",
              "      <td>Good</td>\n",
              "      <td>week acid</td>\n",
              "      <td>11</td>\n",
              "      <td>1</td>\n",
              "    </tr>\n",
              "  </tbody>\n",
              "</table>\n",
              "<p>1599 rows × 15 columns</p>\n",
              "</div>"
            ],
            "text/plain": [
              "     fixed acidity volatile acidity citric acid  ...    phRange alcohol winequality\n",
              "0              7.4              0.7           0  ...    neutral       9           0\n",
              "1              7.8             0.88           0  ...  week acid      10           0\n",
              "2              7.8             0.76        0.04  ...  week acid      10           0\n",
              "3             11.2             0.28        0.56  ...  week acid      10           1\n",
              "4              7.4              0.7           0  ...    neutral       9           0\n",
              "...            ...              ...         ...  ...        ...     ...         ...\n",
              "1594           6.2              0.6        0.08  ...  week acid      11           0\n",
              "1595           5.9             0.55         0.1  ...    neutral      11           1\n",
              "1596           6.3             0.51        0.13  ...  week acid      11           1\n",
              "1597           5.9            0.645        0.12  ...    neutral      10           0\n",
              "1598             6             0.31        0.47  ...  week acid      11           1\n",
              "\n",
              "[1599 rows x 15 columns]"
            ]
          },
          "metadata": {},
          "execution_count": 13
        }
      ]
    },
    {
      "cell_type": "code",
      "metadata": {
        "colab": {
          "base_uri": "https://localhost:8080/"
        },
        "id": "NbJ4qCMcJpFY",
        "outputId": "4207b30a-1e91-49b9-8edd-a766df8f0937"
      },
      "source": [
        "onh = data[['fixed acidity','volatile acidity','citric acid','residual sugar','chlorides','free sulfur dioxide','total sulfur dioxide','density','pH','sulphates','alcohol','quality']]\n",
        "from sklearn.preprocessing import OneHotEncoder\n",
        "enc = OneHotEncoder(handle_unknown='ignore')\n",
        "print(enc.fit(onh))"
      ],
      "execution_count": null,
      "outputs": [
        {
          "output_type": "stream",
          "name": "stdout",
          "text": [
            "OneHotEncoder(handle_unknown='ignore')\n"
          ]
        }
      ]
    },
    {
      "cell_type": "code",
      "metadata": {
        "colab": {
          "base_uri": "https://localhost:8080/",
          "height": 441
        },
        "id": "d-I5s81tJ3bN",
        "outputId": "7d86a4a3-cfd6-4850-b1ed-3c0383df53b6"
      },
      "source": [
        "onh"
      ],
      "execution_count": null,
      "outputs": [
        {
          "output_type": "execute_result",
          "data": {
            "text/html": [
              "<div>\n",
              "<style scoped>\n",
              "    .dataframe tbody tr th:only-of-type {\n",
              "        vertical-align: middle;\n",
              "    }\n",
              "\n",
              "    .dataframe tbody tr th {\n",
              "        vertical-align: top;\n",
              "    }\n",
              "\n",
              "    .dataframe thead th {\n",
              "        text-align: right;\n",
              "    }\n",
              "</style>\n",
              "<table border=\"1\" class=\"dataframe\">\n",
              "  <thead>\n",
              "    <tr style=\"text-align: right;\">\n",
              "      <th></th>\n",
              "      <th>fixed acidity</th>\n",
              "      <th>volatile acidity</th>\n",
              "      <th>citric acid</th>\n",
              "      <th>residual sugar</th>\n",
              "      <th>chlorides</th>\n",
              "      <th>free sulfur dioxide</th>\n",
              "      <th>total sulfur dioxide</th>\n",
              "      <th>density</th>\n",
              "      <th>pH</th>\n",
              "      <th>sulphates</th>\n",
              "      <th>alcohol</th>\n",
              "      <th>quality</th>\n",
              "    </tr>\n",
              "  </thead>\n",
              "  <tbody>\n",
              "    <tr>\n",
              "      <th>0</th>\n",
              "      <td>7.4</td>\n",
              "      <td>0.700</td>\n",
              "      <td>0.00</td>\n",
              "      <td>2</td>\n",
              "      <td>0.076</td>\n",
              "      <td>11</td>\n",
              "      <td>34.0</td>\n",
              "      <td>0.99780</td>\n",
              "      <td>3.51</td>\n",
              "      <td>0.56</td>\n",
              "      <td>9</td>\n",
              "      <td>5</td>\n",
              "    </tr>\n",
              "    <tr>\n",
              "      <th>1</th>\n",
              "      <td>7.8</td>\n",
              "      <td>0.880</td>\n",
              "      <td>0.00</td>\n",
              "      <td>3</td>\n",
              "      <td>0.098</td>\n",
              "      <td>25</td>\n",
              "      <td>67.0</td>\n",
              "      <td>0.99680</td>\n",
              "      <td>3.20</td>\n",
              "      <td>0.68</td>\n",
              "      <td>10</td>\n",
              "      <td>5</td>\n",
              "    </tr>\n",
              "    <tr>\n",
              "      <th>2</th>\n",
              "      <td>7.8</td>\n",
              "      <td>0.760</td>\n",
              "      <td>0.04</td>\n",
              "      <td>2</td>\n",
              "      <td>0.092</td>\n",
              "      <td>15</td>\n",
              "      <td>54.0</td>\n",
              "      <td>0.99700</td>\n",
              "      <td>3.26</td>\n",
              "      <td>0.65</td>\n",
              "      <td>10</td>\n",
              "      <td>5</td>\n",
              "    </tr>\n",
              "    <tr>\n",
              "      <th>3</th>\n",
              "      <td>11.2</td>\n",
              "      <td>0.280</td>\n",
              "      <td>0.56</td>\n",
              "      <td>2</td>\n",
              "      <td>0.075</td>\n",
              "      <td>17</td>\n",
              "      <td>60.0</td>\n",
              "      <td>0.99800</td>\n",
              "      <td>3.16</td>\n",
              "      <td>0.58</td>\n",
              "      <td>10</td>\n",
              "      <td>6</td>\n",
              "    </tr>\n",
              "    <tr>\n",
              "      <th>4</th>\n",
              "      <td>7.4</td>\n",
              "      <td>0.700</td>\n",
              "      <td>0.00</td>\n",
              "      <td>2</td>\n",
              "      <td>0.076</td>\n",
              "      <td>11</td>\n",
              "      <td>34.0</td>\n",
              "      <td>0.99780</td>\n",
              "      <td>3.51</td>\n",
              "      <td>0.56</td>\n",
              "      <td>9</td>\n",
              "      <td>5</td>\n",
              "    </tr>\n",
              "    <tr>\n",
              "      <th>...</th>\n",
              "      <td>...</td>\n",
              "      <td>...</td>\n",
              "      <td>...</td>\n",
              "      <td>...</td>\n",
              "      <td>...</td>\n",
              "      <td>...</td>\n",
              "      <td>...</td>\n",
              "      <td>...</td>\n",
              "      <td>...</td>\n",
              "      <td>...</td>\n",
              "      <td>...</td>\n",
              "      <td>...</td>\n",
              "    </tr>\n",
              "    <tr>\n",
              "      <th>1594</th>\n",
              "      <td>6.2</td>\n",
              "      <td>0.600</td>\n",
              "      <td>0.08</td>\n",
              "      <td>2</td>\n",
              "      <td>0.090</td>\n",
              "      <td>32</td>\n",
              "      <td>44.0</td>\n",
              "      <td>0.99490</td>\n",
              "      <td>3.45</td>\n",
              "      <td>0.58</td>\n",
              "      <td>11</td>\n",
              "      <td>5</td>\n",
              "    </tr>\n",
              "    <tr>\n",
              "      <th>1595</th>\n",
              "      <td>5.9</td>\n",
              "      <td>0.550</td>\n",
              "      <td>0.10</td>\n",
              "      <td>2</td>\n",
              "      <td>0.062</td>\n",
              "      <td>39</td>\n",
              "      <td>51.0</td>\n",
              "      <td>0.99512</td>\n",
              "      <td>3.52</td>\n",
              "      <td>0.76</td>\n",
              "      <td>11</td>\n",
              "      <td>6</td>\n",
              "    </tr>\n",
              "    <tr>\n",
              "      <th>1596</th>\n",
              "      <td>6.3</td>\n",
              "      <td>0.510</td>\n",
              "      <td>0.13</td>\n",
              "      <td>2</td>\n",
              "      <td>0.076</td>\n",
              "      <td>29</td>\n",
              "      <td>40.0</td>\n",
              "      <td>0.99574</td>\n",
              "      <td>3.42</td>\n",
              "      <td>0.75</td>\n",
              "      <td>11</td>\n",
              "      <td>6</td>\n",
              "    </tr>\n",
              "    <tr>\n",
              "      <th>1597</th>\n",
              "      <td>5.9</td>\n",
              "      <td>0.645</td>\n",
              "      <td>0.12</td>\n",
              "      <td>2</td>\n",
              "      <td>0.075</td>\n",
              "      <td>32</td>\n",
              "      <td>44.0</td>\n",
              "      <td>0.99547</td>\n",
              "      <td>3.57</td>\n",
              "      <td>0.71</td>\n",
              "      <td>10</td>\n",
              "      <td>5</td>\n",
              "    </tr>\n",
              "    <tr>\n",
              "      <th>1598</th>\n",
              "      <td>6.0</td>\n",
              "      <td>0.310</td>\n",
              "      <td>0.47</td>\n",
              "      <td>4</td>\n",
              "      <td>0.067</td>\n",
              "      <td>18</td>\n",
              "      <td>42.0</td>\n",
              "      <td>0.99549</td>\n",
              "      <td>3.39</td>\n",
              "      <td>0.66</td>\n",
              "      <td>11</td>\n",
              "      <td>6</td>\n",
              "    </tr>\n",
              "  </tbody>\n",
              "</table>\n",
              "<p>1599 rows × 12 columns</p>\n",
              "</div>"
            ],
            "text/plain": [
              "      fixed acidity  volatile acidity  citric acid  ...  sulphates  alcohol  quality\n",
              "0               7.4             0.700         0.00  ...       0.56        9        5\n",
              "1               7.8             0.880         0.00  ...       0.68       10        5\n",
              "2               7.8             0.760         0.04  ...       0.65       10        5\n",
              "3              11.2             0.280         0.56  ...       0.58       10        6\n",
              "4               7.4             0.700         0.00  ...       0.56        9        5\n",
              "...             ...               ...          ...  ...        ...      ...      ...\n",
              "1594            6.2             0.600         0.08  ...       0.58       11        5\n",
              "1595            5.9             0.550         0.10  ...       0.76       11        6\n",
              "1596            6.3             0.510         0.13  ...       0.75       11        6\n",
              "1597            5.9             0.645         0.12  ...       0.71       10        5\n",
              "1598            6.0             0.310         0.47  ...       0.66       11        6\n",
              "\n",
              "[1599 rows x 12 columns]"
            ]
          },
          "metadata": {},
          "execution_count": 15
        }
      ]
    },
    {
      "cell_type": "code",
      "metadata": {
        "colab": {
          "base_uri": "https://localhost:8080/",
          "height": 441
        },
        "id": "AGSLygDMWuJd",
        "outputId": "551ecae1-7adc-495b-fa8f-539cbe28655a"
      },
      "source": [
        "x_train"
      ],
      "execution_count": null,
      "outputs": [
        {
          "output_type": "execute_result",
          "data": {
            "text/html": [
              "<div>\n",
              "<style scoped>\n",
              "    .dataframe tbody tr th:only-of-type {\n",
              "        vertical-align: middle;\n",
              "    }\n",
              "\n",
              "    .dataframe tbody tr th {\n",
              "        vertical-align: top;\n",
              "    }\n",
              "\n",
              "    .dataframe thead th {\n",
              "        text-align: right;\n",
              "    }\n",
              "</style>\n",
              "<table border=\"1\" class=\"dataframe\">\n",
              "  <thead>\n",
              "    <tr style=\"text-align: right;\">\n",
              "      <th></th>\n",
              "      <th>fixed acidity</th>\n",
              "      <th>volatile acidity</th>\n",
              "      <th>citric acid</th>\n",
              "      <th>residual sugar</th>\n",
              "      <th>chlorides</th>\n",
              "      <th>free sulfur dioxide</th>\n",
              "      <th>total sulfur dioxide</th>\n",
              "      <th>density</th>\n",
              "      <th>pH</th>\n",
              "      <th>sulphates</th>\n",
              "      <th>alcohol</th>\n",
              "      <th>quality</th>\n",
              "    </tr>\n",
              "  </thead>\n",
              "  <tbody>\n",
              "    <tr>\n",
              "      <th>642</th>\n",
              "      <td>9.9</td>\n",
              "      <td>0.540</td>\n",
              "      <td>0.45</td>\n",
              "      <td>2</td>\n",
              "      <td>0.071</td>\n",
              "      <td>16</td>\n",
              "      <td>40.0</td>\n",
              "      <td>0.99910</td>\n",
              "      <td>3.39</td>\n",
              "      <td>0.62</td>\n",
              "      <td>9</td>\n",
              "      <td>5</td>\n",
              "    </tr>\n",
              "    <tr>\n",
              "      <th>679</th>\n",
              "      <td>10.8</td>\n",
              "      <td>0.260</td>\n",
              "      <td>0.45</td>\n",
              "      <td>3</td>\n",
              "      <td>0.060</td>\n",
              "      <td>20</td>\n",
              "      <td>49.0</td>\n",
              "      <td>0.99720</td>\n",
              "      <td>3.13</td>\n",
              "      <td>0.54</td>\n",
              "      <td>10</td>\n",
              "      <td>5</td>\n",
              "    </tr>\n",
              "    <tr>\n",
              "      <th>473</th>\n",
              "      <td>9.9</td>\n",
              "      <td>0.350</td>\n",
              "      <td>0.55</td>\n",
              "      <td>2</td>\n",
              "      <td>0.062</td>\n",
              "      <td>5</td>\n",
              "      <td>14.0</td>\n",
              "      <td>0.99710</td>\n",
              "      <td>3.26</td>\n",
              "      <td>0.79</td>\n",
              "      <td>11</td>\n",
              "      <td>5</td>\n",
              "    </tr>\n",
              "    <tr>\n",
              "      <th>390</th>\n",
              "      <td>5.6</td>\n",
              "      <td>0.850</td>\n",
              "      <td>0.05</td>\n",
              "      <td>1</td>\n",
              "      <td>0.045</td>\n",
              "      <td>12</td>\n",
              "      <td>88.0</td>\n",
              "      <td>0.99240</td>\n",
              "      <td>3.56</td>\n",
              "      <td>0.82</td>\n",
              "      <td>13</td>\n",
              "      <td>8</td>\n",
              "    </tr>\n",
              "    <tr>\n",
              "      <th>1096</th>\n",
              "      <td>6.6</td>\n",
              "      <td>0.725</td>\n",
              "      <td>0.09</td>\n",
              "      <td>6</td>\n",
              "      <td>0.117</td>\n",
              "      <td>9</td>\n",
              "      <td>17.0</td>\n",
              "      <td>0.99655</td>\n",
              "      <td>3.35</td>\n",
              "      <td>0.49</td>\n",
              "      <td>11</td>\n",
              "      <td>6</td>\n",
              "    </tr>\n",
              "    <tr>\n",
              "      <th>...</th>\n",
              "      <td>...</td>\n",
              "      <td>...</td>\n",
              "      <td>...</td>\n",
              "      <td>...</td>\n",
              "      <td>...</td>\n",
              "      <td>...</td>\n",
              "      <td>...</td>\n",
              "      <td>...</td>\n",
              "      <td>...</td>\n",
              "      <td>...</td>\n",
              "      <td>...</td>\n",
              "      <td>...</td>\n",
              "    </tr>\n",
              "    <tr>\n",
              "      <th>763</th>\n",
              "      <td>9.3</td>\n",
              "      <td>0.655</td>\n",
              "      <td>0.26</td>\n",
              "      <td>2</td>\n",
              "      <td>0.096</td>\n",
              "      <td>5</td>\n",
              "      <td>35.0</td>\n",
              "      <td>0.99738</td>\n",
              "      <td>3.25</td>\n",
              "      <td>0.42</td>\n",
              "      <td>10</td>\n",
              "      <td>5</td>\n",
              "    </tr>\n",
              "    <tr>\n",
              "      <th>835</th>\n",
              "      <td>7.6</td>\n",
              "      <td>0.665</td>\n",
              "      <td>0.10</td>\n",
              "      <td>2</td>\n",
              "      <td>0.066</td>\n",
              "      <td>27</td>\n",
              "      <td>55.0</td>\n",
              "      <td>0.99655</td>\n",
              "      <td>3.39</td>\n",
              "      <td>0.51</td>\n",
              "      <td>9</td>\n",
              "      <td>5</td>\n",
              "    </tr>\n",
              "    <tr>\n",
              "      <th>1216</th>\n",
              "      <td>7.9</td>\n",
              "      <td>0.570</td>\n",
              "      <td>0.31</td>\n",
              "      <td>2</td>\n",
              "      <td>0.079</td>\n",
              "      <td>10</td>\n",
              "      <td>79.0</td>\n",
              "      <td>0.99677</td>\n",
              "      <td>3.29</td>\n",
              "      <td>0.69</td>\n",
              "      <td>10</td>\n",
              "      <td>6</td>\n",
              "    </tr>\n",
              "    <tr>\n",
              "      <th>559</th>\n",
              "      <td>13.0</td>\n",
              "      <td>0.470</td>\n",
              "      <td>0.49</td>\n",
              "      <td>4</td>\n",
              "      <td>0.085</td>\n",
              "      <td>6</td>\n",
              "      <td>47.0</td>\n",
              "      <td>1.00210</td>\n",
              "      <td>3.30</td>\n",
              "      <td>0.68</td>\n",
              "      <td>13</td>\n",
              "      <td>6</td>\n",
              "    </tr>\n",
              "    <tr>\n",
              "      <th>684</th>\n",
              "      <td>9.8</td>\n",
              "      <td>0.980</td>\n",
              "      <td>0.32</td>\n",
              "      <td>2</td>\n",
              "      <td>0.078</td>\n",
              "      <td>35</td>\n",
              "      <td>152.0</td>\n",
              "      <td>0.99800</td>\n",
              "      <td>3.25</td>\n",
              "      <td>0.48</td>\n",
              "      <td>9</td>\n",
              "      <td>5</td>\n",
              "    </tr>\n",
              "  </tbody>\n",
              "</table>\n",
              "<p>1279 rows × 12 columns</p>\n",
              "</div>"
            ],
            "text/plain": [
              "      fixed acidity  volatile acidity  citric acid  ...  sulphates  alcohol  quality\n",
              "642             9.9             0.540         0.45  ...       0.62        9        5\n",
              "679            10.8             0.260         0.45  ...       0.54       10        5\n",
              "473             9.9             0.350         0.55  ...       0.79       11        5\n",
              "390             5.6             0.850         0.05  ...       0.82       13        8\n",
              "1096            6.6             0.725         0.09  ...       0.49       11        6\n",
              "...             ...               ...          ...  ...        ...      ...      ...\n",
              "763             9.3             0.655         0.26  ...       0.42       10        5\n",
              "835             7.6             0.665         0.10  ...       0.51        9        5\n",
              "1216            7.9             0.570         0.31  ...       0.69       10        6\n",
              "559            13.0             0.470         0.49  ...       0.68       13        6\n",
              "684             9.8             0.980         0.32  ...       0.48        9        5\n",
              "\n",
              "[1279 rows x 12 columns]"
            ]
          },
          "metadata": {},
          "execution_count": 16
        }
      ]
    },
    {
      "cell_type": "code",
      "metadata": {
        "colab": {
          "base_uri": "https://localhost:8080/"
        },
        "id": "r_wStIaDWwIM",
        "outputId": "f15c64ed-5a91-4842-9055-92cf2ce8302c"
      },
      "source": [
        "y_train"
      ],
      "execution_count": null,
      "outputs": [
        {
          "output_type": "execute_result",
          "data": {
            "text/plain": [
              "642     0\n",
              "679     0\n",
              "473     0\n",
              "390     1\n",
              "1096    1\n",
              "       ..\n",
              "763     0\n",
              "835     0\n",
              "1216    1\n",
              "559     1\n",
              "684     0\n",
              "Name: winequality, Length: 1279, dtype: int64"
            ]
          },
          "metadata": {},
          "execution_count": 17
        }
      ]
    },
    {
      "cell_type": "code",
      "metadata": {
        "colab": {
          "base_uri": "https://localhost:8080/"
        },
        "id": "6PosTcPGJ_VU",
        "outputId": "a417e2c0-6242-4202-8914-d17b112bf9d8"
      },
      "source": [
        "x_train.shape"
      ],
      "execution_count": null,
      "outputs": [
        {
          "output_type": "execute_result",
          "data": {
            "text/plain": [
              "(1279, 12)"
            ]
          },
          "metadata": {},
          "execution_count": 18
        }
      ]
    },
    {
      "cell_type": "code",
      "metadata": {
        "colab": {
          "base_uri": "https://localhost:8080/"
        },
        "id": "BGtHUlqRKDtP",
        "outputId": "2c28eec3-579c-467f-b811-2f29036d45e9"
      },
      "source": [
        "y_train.shape"
      ],
      "execution_count": null,
      "outputs": [
        {
          "output_type": "execute_result",
          "data": {
            "text/plain": [
              "(1279,)"
            ]
          },
          "metadata": {},
          "execution_count": 19
        }
      ]
    },
    {
      "cell_type": "markdown",
      "metadata": {
        "id": "RyE53M1atnDG"
      },
      "source": [
        "# Navie Bayes"
      ]
    },
    {
      "cell_type": "code",
      "metadata": {
        "id": "m6dsdnN9KGyT"
      },
      "source": [
        "#scaling the dataset \n",
        "from sklearn.preprocessing import RobustScaler\n",
        "scaler = RobustScaler()\n",
        "x_train = scaler.fit_transform(x_train)\n",
        "x_test = scaler.transform(x_test)"
      ],
      "execution_count": null,
      "outputs": []
    },
    {
      "cell_type": "code",
      "metadata": {
        "colab": {
          "base_uri": "https://localhost:8080/"
        },
        "id": "kDrl9ujNWyUj",
        "outputId": "d424e002-30e2-4411-aa1f-c7850ffb3d8a"
      },
      "source": [
        "\n",
        "from sklearn.naive_bayes import GaussianNB\n",
        "clf = GaussianNB()#fucntion\n",
        "result = clf.fit(x_train,y_train)\n",
        "result"
      ],
      "execution_count": null,
      "outputs": [
        {
          "output_type": "execute_result",
          "data": {
            "text/plain": [
              "GaussianNB()"
            ]
          },
          "metadata": {},
          "execution_count": 21
        }
      ]
    },
    {
      "cell_type": "code",
      "metadata": {
        "colab": {
          "base_uri": "https://localhost:8080/"
        },
        "id": "vVoVmz_nXBIc",
        "outputId": "4f207b29-d8e4-4dbb-d864-500b5b87ead0"
      },
      "source": [
        "#Predicting values\n",
        "pred = clf.predict(x_test)\n",
        "pred"
      ],
      "execution_count": null,
      "outputs": [
        {
          "output_type": "execute_result",
          "data": {
            "text/plain": [
              "array([1, 0, 1, 1, 0, 1, 0, 1, 0, 0, 0, 0, 1, 0, 1, 1, 1, 0, 0, 0, 1, 1,\n",
              "       1, 0, 1, 0, 0, 1, 0, 1, 0, 1, 0, 1, 1, 1, 0, 1, 1, 1, 0, 1, 1, 1,\n",
              "       0, 0, 1, 1, 1, 0, 0, 0, 1, 1, 1, 0, 0, 0, 1, 0, 0, 1, 1, 1, 0, 1,\n",
              "       0, 1, 1, 1, 1, 0, 0, 1, 0, 1, 0, 0, 0, 1, 1, 0, 1, 1, 1, 0, 1, 0,\n",
              "       0, 0, 0, 1, 0, 0, 1, 1, 1, 0, 1, 0, 1, 1, 1, 1, 0, 0, 0, 0, 1, 0,\n",
              "       1, 0, 1, 0, 1, 1, 1, 1, 1, 1, 0, 1, 0, 0, 1, 1, 0, 0, 0, 1, 1, 1,\n",
              "       1, 1, 1, 0, 1, 0, 1, 0, 1, 0, 1, 0, 0, 1, 1, 1, 0, 1, 1, 0, 0, 0,\n",
              "       1, 1, 0, 1, 1, 1, 1, 1, 1, 1, 0, 0, 1, 1, 1, 1, 0, 0, 0, 1, 0, 1,\n",
              "       1, 1, 1, 0, 0, 1, 0, 1, 1, 0, 0, 1, 0, 0, 1, 0, 1, 1, 0, 0, 0, 0,\n",
              "       0, 0, 0, 1, 1, 0, 1, 1, 0, 1, 1, 1, 1, 1, 0, 1, 0, 1, 0, 1, 1, 0,\n",
              "       0, 0, 1, 1, 0, 1, 1, 1, 0, 1, 0, 0, 1, 1, 1, 1, 1, 1, 1, 1, 0, 0,\n",
              "       0, 0, 1, 0, 0, 0, 0, 1, 0, 0, 0, 1, 1, 0, 0, 0, 1, 1, 0, 1, 0, 1,\n",
              "       0, 0, 0, 0, 1, 1, 1, 0, 0, 0, 1, 1, 1, 1, 1, 1, 0, 1, 0, 1, 1, 0,\n",
              "       0, 0, 1, 1, 0, 1, 1, 1, 0, 1, 1, 0, 1, 0, 1, 0, 1, 1, 1, 1, 0, 0,\n",
              "       1, 0, 0, 1, 0, 0, 0, 1, 0, 0, 0, 1])"
            ]
          },
          "metadata": {},
          "execution_count": 22
        }
      ]
    },
    {
      "cell_type": "code",
      "metadata": {
        "colab": {
          "base_uri": "https://localhost:8080/"
        },
        "id": "H_008neaaVd9",
        "outputId": "8875c9f2-4f37-4787-b414-96fe3cc4c2e6"
      },
      "source": [
        "from sklearn.metrics import accuracy_score\n",
        "accuracy_score(pred,y_test)\n",
        "#Naive Bayes Test data Accuracy"
      ],
      "execution_count": null,
      "outputs": [
        {
          "output_type": "execute_result",
          "data": {
            "text/plain": [
              "0.984375"
            ]
          },
          "metadata": {},
          "execution_count": 23
        }
      ]
    },
    {
      "cell_type": "code",
      "metadata": {
        "colab": {
          "base_uri": "https://localhost:8080/"
        },
        "id": "6xYaFyLmFK-K",
        "outputId": "c23b88ae-44a7-4e72-92b4-c751e8886cfe"
      },
      "source": [
        "pred1 = clf.predict(x_train)\n",
        "pred1"
      ],
      "execution_count": null,
      "outputs": [
        {
          "output_type": "execute_result",
          "data": {
            "text/plain": [
              "array([0, 0, 0, ..., 1, 1, 0])"
            ]
          },
          "metadata": {},
          "execution_count": 24
        }
      ]
    },
    {
      "cell_type": "code",
      "metadata": {
        "colab": {
          "base_uri": "https://localhost:8080/"
        },
        "id": "UnyKpebrFMjd",
        "outputId": "66693ed8-2b8a-4bd9-d6bd-79aca2da550b"
      },
      "source": [
        "from sklearn.metrics import accuracy_score\n",
        "accuracy_score(pred1,y_train)\n",
        "#Naive Bayes Train data accuracy"
      ],
      "execution_count": null,
      "outputs": [
        {
          "output_type": "execute_result",
          "data": {
            "text/plain": [
              "0.9788897576231431"
            ]
          },
          "metadata": {},
          "execution_count": 25
        }
      ]
    },
    {
      "cell_type": "code",
      "metadata": {
        "id": "xvfrVeT7PQ4r"
      },
      "source": [
        "from sklearn.metrics import confusion_matrix\n",
        "import seaborn as sns; sns.set()\n"
      ],
      "execution_count": null,
      "outputs": []
    },
    {
      "cell_type": "markdown",
      "metadata": {
        "id": "sHOSztDYtsiS"
      },
      "source": [
        "# Linear Regression"
      ]
    },
    {
      "cell_type": "code",
      "metadata": {
        "colab": {
          "base_uri": "https://localhost:8080/",
          "height": 310
        },
        "id": "gflD-ULXckix",
        "outputId": "08806e87-8a00-4c93-96dc-2a7833c1b284"
      },
      "source": [
        "#(Linear Regression)\n",
        "data.plot(x='fixed acidity',y='winequality',style='.',color='c')\n",
        "plt.title('Fixed acidity vs Wine qulaity',fontdict={'family':'Sans Serif','size':25})\n",
        "plt.xlabel('Fixed Acidity')\n",
        "plt.ylabel('Wine Quality')\n",
        "plt.grid()\n",
        "plt.show()"
      ],
      "execution_count": null,
      "outputs": [
        {
          "output_type": "display_data",
          "data": {
            "image/png": "[encoded data removed]",
            "text/plain": [
              "<Figure size 432x288 with 1 Axes>"
            ]
          },
          "metadata": {}
        }
      ]
    },
    {
      "cell_type": "code",
      "metadata": {
        "id": "4yzRo6pOeJfH"
      },
      "source": [
        "# we are converting data 2D into 1D data\n",
        "X=data['fixed acidity'].values.reshape(-1,1)\n",
        "y=data['winequality'].values.reshape(-1,1)"
      ],
      "execution_count": null,
      "outputs": []
    },
    {
      "cell_type": "code",
      "metadata": {
        "id": "Xc_Loc7Ue6PY"
      },
      "source": [
        "X_train,X_test,y_train,y_test=train_test_split(X,y,test_size=0.2,random_state=0)"
      ],
      "execution_count": null,
      "outputs": []
    },
    {
      "cell_type": "code",
      "metadata": {
        "colab": {
          "base_uri": "https://localhost:8080/"
        },
        "id": "uFL7HEnmfAhg",
        "outputId": "7cdff2e0-c5c8-4de0-d2b3-4c0de9c54daf"
      },
      "source": [
        "lr=LinearRegression()\n",
        "lr.fit(X_train,y_train)"
      ],
      "execution_count": null,
      "outputs": [
        {
          "output_type": "execute_result",
          "data": {
            "text/plain": [
              "LinearRegression()"
            ]
          },
          "metadata": {},
          "execution_count": 30
        }
      ]
    },
    {
      "cell_type": "code",
      "metadata": {
        "colab": {
          "base_uri": "https://localhost:8080/"
        },
        "id": "XvWipI4RfTfH",
        "outputId": "2f381406-0343-4343-e5ad-ca45620b5957"
      },
      "source": [
        "\n",
        "print('Intercept of the curve is:',lr.intercept_)\n",
        "print('Slope of the curve is:',lr.coef_)"
      ],
      "execution_count": null,
      "outputs": [
        {
          "output_type": "stream",
          "name": "stdout",
          "text": [
            "Intercept of the curve is: [0.28005252]\n",
            "Slope of the curve is: [[0.03046025]]\n"
          ]
        }
      ]
    },
    {
      "cell_type": "code",
      "metadata": {
        "id": "otq01z8_bB2D"
      },
      "source": [
        "y_pred=lr.predict(X_test)"
      ],
      "execution_count": null,
      "outputs": []
    },
    {
      "cell_type": "code",
      "metadata": {
        "colab": {
          "base_uri": "https://localhost:8080/",
          "height": 423
        },
        "id": "Nl3T3_d1fjtH",
        "outputId": "12f7b4ea-8011-4397-9002-d32ab401d2c6"
      },
      "source": [
        "\n",
        "\n",
        "\n",
        "#flatten return a copy of the array collapsed into one dimension.\n",
        "data=pd.DataFrame({'Actual Value': y_test.flatten(),'Predicted Value': y_pred.flatten()})\n",
        "data"
      ],
      "execution_count": null,
      "outputs": [
        {
          "output_type": "execute_result",
          "data": {
            "text/html": [
              "<div>\n",
              "<style scoped>\n",
              "    .dataframe tbody tr th:only-of-type {\n",
              "        vertical-align: middle;\n",
              "    }\n",
              "\n",
              "    .dataframe tbody tr th {\n",
              "        vertical-align: top;\n",
              "    }\n",
              "\n",
              "    .dataframe thead th {\n",
              "        text-align: right;\n",
              "    }\n",
              "</style>\n",
              "<table border=\"1\" class=\"dataframe\">\n",
              "  <thead>\n",
              "    <tr style=\"text-align: right;\">\n",
              "      <th></th>\n",
              "      <th>Actual Value</th>\n",
              "      <th>Predicted Value</th>\n",
              "    </tr>\n",
              "  </thead>\n",
              "  <tbody>\n",
              "    <tr>\n",
              "      <th>0</th>\n",
              "      <td>1</td>\n",
              "      <td>0.609023</td>\n",
              "    </tr>\n",
              "    <tr>\n",
              "      <th>1</th>\n",
              "      <td>0</td>\n",
              "      <td>0.526781</td>\n",
              "    </tr>\n",
              "    <tr>\n",
              "      <th>2</th>\n",
              "      <td>1</td>\n",
              "      <td>0.557241</td>\n",
              "    </tr>\n",
              "    <tr>\n",
              "      <th>3</th>\n",
              "      <td>1</td>\n",
              "      <td>0.590747</td>\n",
              "    </tr>\n",
              "    <tr>\n",
              "      <th>4</th>\n",
              "      <td>0</td>\n",
              "      <td>0.651668</td>\n",
              "    </tr>\n",
              "    <tr>\n",
              "      <th>...</th>\n",
              "      <td>...</td>\n",
              "      <td>...</td>\n",
              "    </tr>\n",
              "    <tr>\n",
              "      <th>315</th>\n",
              "      <td>1</td>\n",
              "      <td>0.587701</td>\n",
              "    </tr>\n",
              "    <tr>\n",
              "      <th>316</th>\n",
              "      <td>0</td>\n",
              "      <td>0.490228</td>\n",
              "    </tr>\n",
              "    <tr>\n",
              "      <th>317</th>\n",
              "      <td>0</td>\n",
              "      <td>0.557241</td>\n",
              "    </tr>\n",
              "    <tr>\n",
              "      <th>318</th>\n",
              "      <td>0</td>\n",
              "      <td>0.557241</td>\n",
              "    </tr>\n",
              "    <tr>\n",
              "      <th>319</th>\n",
              "      <td>1</td>\n",
              "      <td>0.529827</td>\n",
              "    </tr>\n",
              "  </tbody>\n",
              "</table>\n",
              "<p>320 rows × 2 columns</p>\n",
              "</div>"
            ],
            "text/plain": [
              "     Actual Value  Predicted Value\n",
              "0               1         0.609023\n",
              "1               0         0.526781\n",
              "2               1         0.557241\n",
              "3               1         0.590747\n",
              "4               0         0.651668\n",
              "..            ...              ...\n",
              "315             1         0.587701\n",
              "316             0         0.490228\n",
              "317             0         0.557241\n",
              "318             0         0.557241\n",
              "319             1         0.529827\n",
              "\n",
              "[320 rows x 2 columns]"
            ]
          },
          "metadata": {},
          "execution_count": 33
        }
      ]
    },
    {
      "cell_type": "code",
      "metadata": {
        "id": "a-JnIMxHfyjh"
      },
      "source": [
        "pred=lr.predict(X_test)"
      ],
      "execution_count": null,
      "outputs": []
    },
    {
      "cell_type": "code",
      "metadata": {
        "colab": {
          "base_uri": "https://localhost:8080/"
        },
        "id": "7Wa4mme9f2Zs",
        "outputId": "91186261-287e-42ca-815a-6968fa147ebe"
      },
      "source": [
        "print('Mean Absolute Error:',metrics.mean_absolute_error(y_test, pred))\n",
        "print('Mean Squared Error:',metrics.mean_squared_error(y_test, pred))\n",
        "print('Root Mean Squared Error:',np.sqrt(metrics.mean_squared_error(y_test, pred)))"
      ],
      "execution_count": null,
      "outputs": [
        {
          "output_type": "stream",
          "name": "stdout",
          "text": [
            "Mean Absolute Error: 0.4948121737880545\n",
            "Mean Squared Error: 0.24867870093657723\n",
            "Root Mean Squared Error: 0.4986769504765357\n"
          ]
        }
      ]
    },
    {
      "cell_type": "code",
      "metadata": {
        "colab": {
          "base_uri": "https://localhost:8080/"
        },
        "id": "5WBPaZiao6R_",
        "outputId": "8290694a-6479-4725-ce8d-62cd4155daaf"
      },
      "source": [
        "MAE=1-metrics.mean_absolute_error(y_test,pred)\n",
        "MAE"
      ],
      "execution_count": null,
      "outputs": [
        {
          "output_type": "execute_result",
          "data": {
            "text/plain": [
              "0.5051878262119456"
            ]
          },
          "metadata": {},
          "execution_count": 36
        }
      ]
    },
    {
      "cell_type": "code",
      "metadata": {
        "colab": {
          "base_uri": "https://localhost:8080/"
        },
        "id": "7fnGMSe-ph_D",
        "outputId": "9287691e-8d8f-4095-ef40-b197bd739882"
      },
      "source": [
        "MSE=1-metrics.mean_squared_error(y_test,pred)\n",
        "MSE"
      ],
      "execution_count": null,
      "outputs": [
        {
          "output_type": "execute_result",
          "data": {
            "text/plain": [
              "0.7513212990634228"
            ]
          },
          "metadata": {},
          "execution_count": 37
        }
      ]
    },
    {
      "cell_type": "code",
      "metadata": {
        "colab": {
          "base_uri": "https://localhost:8080/"
        },
        "id": "xldZyzRDp0fV",
        "outputId": "c66f2fec-bb55-4230-869d-e02c4d472cbf"
      },
      "source": [
        "RMSE=1-np.sqrt(metrics.mean_squared_error(y_test, pred))\n",
        "RMSE"
      ],
      "execution_count": null,
      "outputs": [
        {
          "output_type": "execute_result",
          "data": {
            "text/plain": [
              "0.5013230495234643"
            ]
          },
          "metadata": {},
          "execution_count": 38
        }
      ]
    },
    {
      "cell_type": "code",
      "metadata": {
        "colab": {
          "base_uri": "https://localhost:8080/",
          "height": 268
        },
        "id": "hiNLk0Q8f52b",
        "outputId": "9e748f3d-6f41-4efc-c856-6d6a5feb004d"
      },
      "source": [
        "plt.scatter(X_test,y_test,color='c')\n",
        "plt.plot(X_test,y_pred,color='g',linewidth=2)\n",
        "plt.show()\n",
        "#y=mx+c Plotting the linear Regression Line"
      ],
      "execution_count": null,
      "outputs": [
        {
          "output_type": "display_data",
          "data": {
            "image/png": "[encoded data removed]",
            "text/plain": [
              "<Figure size 432x288 with 1 Axes>"
            ]
          },
          "metadata": {}
        }
      ]
    },
    {
      "cell_type": "markdown",
      "metadata": {
        "id": "14PwD_0Ot7q8"
      },
      "source": [
        "# Logistic Regression"
      ]
    },
    {
      "cell_type": "code",
      "metadata": {
        "colab": {
          "base_uri": "https://localhost:8080/"
        },
        "id": "391pBlWFTb3b",
        "outputId": "d99d8d54-8277-4ce3-8d1c-1b76900c8acf"
      },
      "source": [
        "#Logistic Regression\n",
        "from sklearn.linear_model import LogisticRegression\n",
        "logis = LogisticRegression()\n",
        "\n",
        "#Fit the model\n",
        "logis.fit(x_train,y_train)\n",
        "\n",
        "#Use for prediction\n",
        "y_pred = logis.predict(x_test)"
      ],
      "execution_count": null,
      "outputs": [
        {
          "output_type": "stream",
          "name": "stderr",
          "text": [
            "/usr/local/lib/python3.7/dist-packages/sklearn/utils/validation.py:985: DataConversionWarning: A column-vector y was passed when a 1d array was expected. Please change the shape of y to (n_samples, ), for example using ravel().\n",
            "  y = column_or_1d(y, warn=True)\n"
          ]
        }
      ]
    },
    {
      "cell_type": "code",
      "metadata": {
        "colab": {
          "base_uri": "https://localhost:8080/"
        },
        "id": "HKut5oPXhi96",
        "outputId": "188c81a5-d563-4bc8-bb21-f6e0e76f579a"
      },
      "source": [
        "#if the accuracy is equal to one it is 100%\n",
        "from sklearn.metrics import accuracy_score\n",
        "logit_accuracy = accuracy_score(y_test,y_pred)\n",
        "print('Accuracy score for the Logistic model:', logit_accuracy)"
      ],
      "execution_count": null,
      "outputs": [
        {
          "output_type": "stream",
          "name": "stdout",
          "text": [
            "Accuracy score for the Logistic model: 1.0\n"
          ]
        }
      ]
    },
    {
      "cell_type": "code",
      "source": [
        "from sklearn.metrics import roc_curve,auc\n",
        "fpr,tpr,_=roc_curve(y_test,y_pred)"
      ],
      "metadata": {
        "id": "ZDbVp2AKATaa"
      },
      "execution_count": null,
      "outputs": []
    },
    {
      "cell_type": "code",
      "source": [
        "from sklearn.metrics import confusion_matrix\n",
        "import seaborn as sns; sns.set()\n",
        "sns.heatmap(confusion_matrix(y_pred,y_test),annot=True)\n",
        "plt.show()\n",
        "plt.title('confusion matrix')"
      ],
      "metadata": {
        "colab": {
          "base_uri": "https://localhost:8080/",
          "height": 552
        },
        "id": "3nI4pwnABhpf",
        "outputId": "77a7cd81-8f7c-4a0c-bba8-bb6db8b9e42f"
      },
      "execution_count": null,
      "outputs": [
        {
          "output_type": "display_data",
          "data": {
            "image/png": "[encoded data removed]",
            "text/plain": [
              "<Figure size 432x288 with 2 Axes>"
            ]
          },
          "metadata": {}
        },
        {
          "output_type": "execute_result",
          "data": {
            "text/plain": [
              "Text(0.5, 1.0, 'confusion matrix')"
            ]
          },
          "metadata": {},
          "execution_count": 65
        },
        {
          "output_type": "display_data",
          "data": {
            "image/png": "[encoded data removed]",
            "text/plain": [
              "<Figure size 432x288 with 1 Axes>"
            ]
          },
          "metadata": {}
        }
      ]
    },
    {
      "cell_type": "markdown",
      "metadata": {
        "id": "2IIugjXbwbp6"
      },
      "source": [
        "# Support Vector Machine"
      ]
    },
    {
      "cell_type": "code",
      "source": [
        ""
      ],
      "metadata": {
        "id": "4wlF3uDOABGn"
      },
      "execution_count": null,
      "outputs": []
    },
    {
      "cell_type": "code",
      "metadata": {
        "id": "djOaUiv9ow--"
      },
      "source": [
        "from sklearn.model_selection import train_test_split\n",
        "from sklearn.svm import SVC"
      ],
      "execution_count": null,
      "outputs": []
    },
    {
      "cell_type": "code",
      "metadata": {
        "id": "z62UlzR2o1ad",
        "colab": {
          "base_uri": "https://localhost:8080/"
        },
        "outputId": "4e8c5067-0fd9-4cad-8c66-47be3f7a4e97"
      },
      "source": [
        "model=SVC().fit(X_train,y_train)"
      ],
      "execution_count": null,
      "outputs": [
        {
          "output_type": "stream",
          "name": "stderr",
          "text": [
            "/usr/local/lib/python3.7/dist-packages/sklearn/utils/validation.py:985: DataConversionWarning: A column-vector y was passed when a 1d array was expected. Please change the shape of y to (n_samples, ), for example using ravel().\n",
            "  y = column_or_1d(y, warn=True)\n"
          ]
        }
      ]
    },
    {
      "cell_type": "code",
      "metadata": {
        "id": "i6-r51YJ1i1Q"
      },
      "source": [
        "prediction=model.predict(X_test)"
      ],
      "execution_count": null,
      "outputs": []
    },
    {
      "cell_type": "code",
      "metadata": {
        "colab": {
          "base_uri": "https://localhost:8080/"
        },
        "id": "QjixkU6E1n50",
        "outputId": "1d138890-0cf2-426c-b973-523f65548746"
      },
      "source": [
        "from sklearn.metrics import accuracy_score\n",
        "svcacc = accuracy_score(y_test,prediction)\n",
        "svcacc"
      ],
      "execution_count": null,
      "outputs": [
        {
          "output_type": "execute_result",
          "data": {
            "text/plain": [
              "0.509375"
            ]
          },
          "metadata": {},
          "execution_count": 52
        }
      ]
    },
    {
      "cell_type": "code",
      "metadata": {
        "id": "bJBvlaj31oBc"
      },
      "source": [
        "prediction1=model.predict(X_train)"
      ],
      "execution_count": null,
      "outputs": []
    },
    {
      "cell_type": "code",
      "metadata": {
        "colab": {
          "base_uri": "https://localhost:8080/"
        },
        "id": "uowMidfh1tD2",
        "outputId": "914d15b9-ccbf-4fdc-c9cb-9b300edf5390"
      },
      "source": [
        "from sklearn.metrics import accuracy_score\n",
        "svcacc1 = accuracy_score(y_train,prediction1)\n",
        "svcacc1"
      ],
      "execution_count": null,
      "outputs": [
        {
          "output_type": "execute_result",
          "data": {
            "text/plain": [
              "0.5551211884284597"
            ]
          },
          "metadata": {},
          "execution_count": 54
        }
      ]
    }
  ]
}